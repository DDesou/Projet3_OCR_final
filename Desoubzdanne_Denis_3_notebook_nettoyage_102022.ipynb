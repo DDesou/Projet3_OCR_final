{
 "cells": [
  {
   "attachments": {},
   "cell_type": "markdown",
   "metadata": {},
   "source": [
    "# I. RECUP DES DONNEES/PRISE EN MAIN"
   ]
  },
  {
   "attachments": {},
   "cell_type": "markdown",
   "metadata": {},
   "source": [
    "Installer les packages/librairies/extensions"
   ]
  },
  {
   "cell_type": "code",
   "execution_count": 1,
   "metadata": {},
   "outputs": [],
   "source": [
    "import matplotlib.pyplot as plt\n",
    "import numpy as np\n",
    "import pandas as pd\n",
    "import plotly.express as px\n",
    "import plotly.graph_objects as go\n",
    "import sklearn\n",
    "from sklearn.cluster import KMeans\n",
    "import seaborn as sns\n",
    "import os\n",
    "from os import listdir\n",
    "import missingno as msno\n",
    "from zipfile import ZipFile\n",
    "from sklearn.preprocessing import MinMaxScaler\n",
    "from sklearn.impute import KNNImputer"
   ]
  },
  {
   "attachments": {},
   "cell_type": "markdown",
   "metadata": {},
   "source": [
    "Lister tous les fichiers zip presents dans le repertoire de travail => plus facile pour appeler les fichiers."
   ]
  },
  {
   "cell_type": "code",
   "execution_count": 2,
   "metadata": {},
   "outputs": [],
   "source": [
    "def zip_file(path_to_dir=os.path.abspath(os.getcwd()), suffix=\".zip\"):\n",
    "    filenames = listdir(path_to_dir)\n",
    "    return [filename for filename in filenames if filename.endswith(suffix)]"
   ]
  },
  {
   "cell_type": "code",
   "execution_count": 3,
   "metadata": {},
   "outputs": [
    {
     "data": {
      "text/plain": [
       "['concevez_une_application_au_service_de_la_santé_publique_Denis_Desoubzdanne.zip',\n",
       " 'fr.openfoodfacts.org.products.csv.zip']"
      ]
     },
     "execution_count": 3,
     "metadata": {},
     "output_type": "execute_result"
    }
   ],
   "source": [
    "zip_file()"
   ]
  },
  {
   "attachments": {},
   "cell_type": "markdown",
   "metadata": {},
   "source": [
    "Ouvrir et fermer proprement un fichier zip "
   ]
  },
  {
   "cell_type": "code",
   "execution_count": 4,
   "metadata": {},
   "outputs": [
    {
     "name": "stdout",
     "output_type": "stream",
     "text": [
      "File Name                                             Modified             Size\n",
      "concevez_une_application_au_service_de_la_santé_publique_Denis_Desoubzdanne/Desoubzdanne_Denis_2_présentation_102022.pptx 2022-12-17 00:22:10      7392854\n",
      "concevez_une_application_au_service_de_la_santé_publique_Denis_Desoubzdanne/Desoubzdanne_Denis_3_notebook_exploration_102022.ipynb 2022-12-17 00:28:46    107679304\n",
      "concevez_une_application_au_service_de_la_santé_publique_Denis_Desoubzdanne/Desoubzdanne_Denis_3_notebook_nettoyage_102022.ipynb 2022-12-17 00:26:58       432710\n"
     ]
    }
   ],
   "source": [
    "file_name = zip_file()[0]\n",
    "with ZipFile(file_name, 'r') as zip:\n",
    "    zip.printdir()"
   ]
  },
  {
   "attachments": {},
   "cell_type": "markdown",
   "metadata": {},
   "source": [
    "Lister les fichiers csv"
   ]
  },
  {
   "cell_type": "code",
   "execution_count": 5,
   "metadata": {},
   "outputs": [],
   "source": [
    "def csv_files(path_to_dir=os.path.abspath(os.getcwd()), suffix=\".csv\"):\n",
    "    filenames = listdir(path_to_dir)\n",
    "    return [filename for filename in filenames if filename.endswith(suffix)]"
   ]
  },
  {
   "cell_type": "code",
   "execution_count": 6,
   "metadata": {},
   "outputs": [
    {
     "data": {
      "text/plain": [
       "['df19b.csv',\n",
       " 'df2_100.csv',\n",
       " 'df2_20.csv',\n",
       " 'foo.csv',\n",
       " 'fr.csv',\n",
       " 'fr.openfoodfacts.org.products.csv']"
      ]
     },
     "execution_count": 6,
     "metadata": {},
     "output_type": "execute_result"
    }
   ],
   "source": [
    "csv_files()"
   ]
  },
  {
   "attachments": {},
   "cell_type": "markdown",
   "metadata": {},
   "source": [
    "C'est le fichier 'fr.openfoodfacts.org.products.csv' qui nous intéresse."
   ]
  },
  {
   "cell_type": "markdown",
   "metadata": {},
   "source": [
    "df = pd.read_csv('fr.openfoodfacts.org.products.csv', \n",
    "                sep=\"\\t\", \n",
    "                header=None,\n",
    "                encoding='UTF-8',\n",
    "                low_memory=True)\n",
    "#df.head(3)"
   ]
  },
  {
   "attachments": {},
   "cell_type": "markdown",
   "metadata": {},
   "source": [
    "Gérer le warning"
   ]
  },
  {
   "cell_type": "code",
   "execution_count": 7,
   "metadata": {},
   "outputs": [],
   "source": [
    "l = [0,3,5,19,20,24,25,26,27,28,35,36,37,38,39,41,42,46,47,48,49,\n",
    "50,52,63,64,65,66,67,68,69,70,71,72,73,74,75,76,77,78,79,80,81,82,\n",
    "83,84,85,86,87,88,89,90,91,92,93,94,95,96,97,98,99,100,101,102,103,\n",
    "104,105,106,107,108,109,110,111,112,113,114,115,116,117,118,119,\n",
    "120,121,122,123,124,125,126,127,128,129,130,131,132,133,134,135,136,\n",
    "137,138,139,140,141,142,143,144,145,146,147,148,149,150,151,152,153,\n",
    "154,155,156,157,158,159,160,161]"
   ]
  },
  {
   "cell_type": "code",
   "execution_count": 8,
   "metadata": {},
   "outputs": [],
   "source": [
    "dico = {}\n",
    "for elt in l:\n",
    "    dico[elt]=\"str\""
   ]
  },
  {
   "cell_type": "code",
   "execution_count": 9,
   "metadata": {},
   "outputs": [],
   "source": [
    "df = pd.read_csv(csv_files()[-1], \n",
    "                sep=\"\\t\", \n",
    "                header=None,\n",
    "                low_memory=True, \n",
    "                dtype=dico)"
   ]
  },
  {
   "cell_type": "code",
   "execution_count": 10,
   "metadata": {},
   "outputs": [],
   "source": [
    "new_header = df.iloc[0] #grab the first row for the header\n",
    "df = df[1:] #take the data less the header row\n",
    "df.columns = new_header #set the header row as the df header"
   ]
  },
  {
   "cell_type": "code",
   "execution_count": 11,
   "metadata": {},
   "outputs": [
    {
     "data": {
      "text/html": [
       "<div>\n",
       "<style scoped>\n",
       "    .dataframe tbody tr th:only-of-type {\n",
       "        vertical-align: middle;\n",
       "    }\n",
       "\n",
       "    .dataframe tbody tr th {\n",
       "        vertical-align: top;\n",
       "    }\n",
       "\n",
       "    .dataframe thead th {\n",
       "        text-align: right;\n",
       "    }\n",
       "</style>\n",
       "<table border=\"1\" class=\"dataframe\">\n",
       "  <thead>\n",
       "    <tr style=\"text-align: right;\">\n",
       "      <th></th>\n",
       "      <th>code</th>\n",
       "      <th>url</th>\n",
       "      <th>creator</th>\n",
       "      <th>created_t</th>\n",
       "      <th>created_datetime</th>\n",
       "      <th>last_modified_t</th>\n",
       "      <th>last_modified_datetime</th>\n",
       "      <th>product_name</th>\n",
       "      <th>generic_name</th>\n",
       "      <th>quantity</th>\n",
       "      <th>...</th>\n",
       "      <th>ph_100g</th>\n",
       "      <th>fruits-vegetables-nuts_100g</th>\n",
       "      <th>collagen-meat-protein-ratio_100g</th>\n",
       "      <th>cocoa_100g</th>\n",
       "      <th>chlorophyl_100g</th>\n",
       "      <th>carbon-footprint_100g</th>\n",
       "      <th>nutrition-score-fr_100g</th>\n",
       "      <th>nutrition-score-uk_100g</th>\n",
       "      <th>glycemic-index_100g</th>\n",
       "      <th>water-hardness_100g</th>\n",
       "    </tr>\n",
       "  </thead>\n",
       "  <tbody>\n",
       "    <tr>\n",
       "      <th>1</th>\n",
       "      <td>0000000003087</td>\n",
       "      <td>http://world-fr.openfoodfacts.org/produit/0000...</td>\n",
       "      <td>openfoodfacts-contributors</td>\n",
       "      <td>1474103866</td>\n",
       "      <td>2016-09-17T09:17:46Z</td>\n",
       "      <td>1474103893</td>\n",
       "      <td>2016-09-17T09:18:13Z</td>\n",
       "      <td>Farine de blé noir</td>\n",
       "      <td>NaN</td>\n",
       "      <td>1kg</td>\n",
       "      <td>...</td>\n",
       "      <td>NaN</td>\n",
       "      <td>NaN</td>\n",
       "      <td>NaN</td>\n",
       "      <td>NaN</td>\n",
       "      <td>NaN</td>\n",
       "      <td>NaN</td>\n",
       "      <td>NaN</td>\n",
       "      <td>NaN</td>\n",
       "      <td>NaN</td>\n",
       "      <td>NaN</td>\n",
       "    </tr>\n",
       "    <tr>\n",
       "      <th>2</th>\n",
       "      <td>0000000004530</td>\n",
       "      <td>http://world-fr.openfoodfacts.org/produit/0000...</td>\n",
       "      <td>usda-ndb-import</td>\n",
       "      <td>1489069957</td>\n",
       "      <td>2017-03-09T14:32:37Z</td>\n",
       "      <td>1489069957</td>\n",
       "      <td>2017-03-09T14:32:37Z</td>\n",
       "      <td>Banana Chips Sweetened (Whole)</td>\n",
       "      <td>NaN</td>\n",
       "      <td>NaN</td>\n",
       "      <td>...</td>\n",
       "      <td>NaN</td>\n",
       "      <td>NaN</td>\n",
       "      <td>NaN</td>\n",
       "      <td>NaN</td>\n",
       "      <td>NaN</td>\n",
       "      <td>NaN</td>\n",
       "      <td>14</td>\n",
       "      <td>14</td>\n",
       "      <td>NaN</td>\n",
       "      <td>NaN</td>\n",
       "    </tr>\n",
       "    <tr>\n",
       "      <th>3</th>\n",
       "      <td>0000000004559</td>\n",
       "      <td>http://world-fr.openfoodfacts.org/produit/0000...</td>\n",
       "      <td>usda-ndb-import</td>\n",
       "      <td>1489069957</td>\n",
       "      <td>2017-03-09T14:32:37Z</td>\n",
       "      <td>1489069957</td>\n",
       "      <td>2017-03-09T14:32:37Z</td>\n",
       "      <td>Peanuts</td>\n",
       "      <td>NaN</td>\n",
       "      <td>NaN</td>\n",
       "      <td>...</td>\n",
       "      <td>NaN</td>\n",
       "      <td>NaN</td>\n",
       "      <td>NaN</td>\n",
       "      <td>NaN</td>\n",
       "      <td>NaN</td>\n",
       "      <td>NaN</td>\n",
       "      <td>0</td>\n",
       "      <td>0</td>\n",
       "      <td>NaN</td>\n",
       "      <td>NaN</td>\n",
       "    </tr>\n",
       "  </tbody>\n",
       "</table>\n",
       "<p>3 rows × 162 columns</p>\n",
       "</div>"
      ],
      "text/plain": [
       "0           code                                                url  \\\n",
       "1  0000000003087  http://world-fr.openfoodfacts.org/produit/0000...   \n",
       "2  0000000004530  http://world-fr.openfoodfacts.org/produit/0000...   \n",
       "3  0000000004559  http://world-fr.openfoodfacts.org/produit/0000...   \n",
       "\n",
       "0                     creator   created_t      created_datetime  \\\n",
       "1  openfoodfacts-contributors  1474103866  2016-09-17T09:17:46Z   \n",
       "2             usda-ndb-import  1489069957  2017-03-09T14:32:37Z   \n",
       "3             usda-ndb-import  1489069957  2017-03-09T14:32:37Z   \n",
       "\n",
       "0 last_modified_t last_modified_datetime                    product_name  \\\n",
       "1      1474103893   2016-09-17T09:18:13Z              Farine de blé noir   \n",
       "2      1489069957   2017-03-09T14:32:37Z  Banana Chips Sweetened (Whole)   \n",
       "3      1489069957   2017-03-09T14:32:37Z                         Peanuts   \n",
       "\n",
       "0 generic_name quantity  ... ph_100g fruits-vegetables-nuts_100g  \\\n",
       "1          NaN      1kg  ...     NaN                         NaN   \n",
       "2          NaN      NaN  ...     NaN                         NaN   \n",
       "3          NaN      NaN  ...     NaN                         NaN   \n",
       "\n",
       "0 collagen-meat-protein-ratio_100g cocoa_100g chlorophyl_100g  \\\n",
       "1                              NaN        NaN             NaN   \n",
       "2                              NaN        NaN             NaN   \n",
       "3                              NaN        NaN             NaN   \n",
       "\n",
       "0 carbon-footprint_100g nutrition-score-fr_100g nutrition-score-uk_100g  \\\n",
       "1                   NaN                     NaN                     NaN   \n",
       "2                   NaN                      14                      14   \n",
       "3                   NaN                       0                       0   \n",
       "\n",
       "0 glycemic-index_100g water-hardness_100g  \n",
       "1                 NaN                 NaN  \n",
       "2                 NaN                 NaN  \n",
       "3                 NaN                 NaN  \n",
       "\n",
       "[3 rows x 162 columns]"
      ]
     },
     "execution_count": 11,
     "metadata": {},
     "output_type": "execute_result"
    }
   ],
   "source": [
    "df.head(3)"
   ]
  },
  {
   "attachments": {},
   "cell_type": "markdown",
   "metadata": {},
   "source": [
    "Taille du df"
   ]
  },
  {
   "cell_type": "code",
   "execution_count": 12,
   "metadata": {},
   "outputs": [
    {
     "data": {
      "text/plain": [
       "(320772, 162)"
      ]
     },
     "execution_count": 12,
     "metadata": {},
     "output_type": "execute_result"
    }
   ],
   "source": [
    "df.shape"
   ]
  },
  {
   "attachments": {},
   "cell_type": "markdown",
   "metadata": {},
   "source": [
    "# 2 col semblent intéressantes (catégorielles)"
   ]
  },
  {
   "cell_type": "code",
   "execution_count": 13,
   "metadata": {},
   "outputs": [
    {
     "data": {
      "text/plain": [
       "array([nan, 'unknown', 'Fruits and vegetables', 'Sugary snacks',\n",
       "       'Cereals and potatoes', 'Composite foods', 'Fish Meat Eggs',\n",
       "       'Beverages', 'Fat and sauces', 'fruits-and-vegetables',\n",
       "       'Milk and dairy products', 'Salty snacks', 'sugary-snacks',\n",
       "       'cereals-and-potatoes', 'salty-snacks'], dtype=object)"
      ]
     },
     "execution_count": 13,
     "metadata": {},
     "output_type": "execute_result"
    }
   ],
   "source": [
    "df['pnns_groups_1'].unique()"
   ]
  },
  {
   "cell_type": "code",
   "execution_count": 14,
   "metadata": {},
   "outputs": [
    {
     "data": {
      "text/plain": [
       "42"
      ]
     },
     "execution_count": 14,
     "metadata": {},
     "output_type": "execute_result"
    }
   ],
   "source": [
    "df['pnns_groups_2'].nunique()"
   ]
  },
  {
   "attachments": {},
   "cell_type": "markdown",
   "metadata": {},
   "source": [
    "# Les colonnes pnns_groups_1 et _2 semblent importantes pour classer les produits selon des catégories. Je vais retenir pnns_groups_1 principalement (moins de gpes)."
   ]
  },
  {
   "attachments": {},
   "cell_type": "markdown",
   "metadata": {},
   "source": [
    "Création d'un fct missing() permettant de générer et d'enregistrer une fig missingno pour un df donné."
   ]
  },
  {
   "cell_type": "code",
   "execution_count": 15,
   "metadata": {},
   "outputs": [],
   "source": [
    "def missing(table=df, name_table='df'):\n",
    "    %matplotlib inline\n",
    "    fig = msno.matrix(table, labels=True)\n",
    "    fig_copy = fig.get_figure()\n",
    "    fig_copy.savefig(f'missingno_{name_table}.png', bbox_inches = 'tight')\n",
    "    return fig"
   ]
  },
  {
   "cell_type": "code",
   "execution_count": 16,
   "metadata": {},
   "outputs": [],
   "source": [
    "#missing()"
   ]
  },
  {
   "attachments": {},
   "cell_type": "markdown",
   "metadata": {},
   "source": [
    "Création d'une fct describ() pour visualiser le descriptif d'un df."
   ]
  },
  {
   "cell_type": "code",
   "execution_count": 17,
   "metadata": {},
   "outputs": [],
   "source": [
    "def describ(table=df):\n",
    "    pd.set_option(\"max_rows\", None)\n",
    "    pd.set_option(\"max_columns\", None)\n",
    "    return table.describe().T #avoir un apperçu du jeu de données et des colonnes vides => supprimer ces dernières par la suite."
   ]
  },
  {
   "cell_type": "code",
   "execution_count": 18,
   "metadata": {},
   "outputs": [
    {
     "data": {
      "text/html": [
       "<div>\n",
       "<style scoped>\n",
       "    .dataframe tbody tr th:only-of-type {\n",
       "        vertical-align: middle;\n",
       "    }\n",
       "\n",
       "    .dataframe tbody tr th {\n",
       "        vertical-align: top;\n",
       "    }\n",
       "\n",
       "    .dataframe thead th {\n",
       "        text-align: right;\n",
       "    }\n",
       "</style>\n",
       "<table border=\"1\" class=\"dataframe\">\n",
       "  <thead>\n",
       "    <tr style=\"text-align: right;\">\n",
       "      <th></th>\n",
       "      <th>count</th>\n",
       "      <th>unique</th>\n",
       "      <th>top</th>\n",
       "      <th>freq</th>\n",
       "    </tr>\n",
       "    <tr>\n",
       "      <th>0</th>\n",
       "      <th></th>\n",
       "      <th></th>\n",
       "      <th></th>\n",
       "      <th></th>\n",
       "    </tr>\n",
       "  </thead>\n",
       "  <tbody>\n",
       "    <tr>\n",
       "      <th>code</th>\n",
       "      <td>320749</td>\n",
       "      <td>320749</td>\n",
       "      <td>0000000003087</td>\n",
       "      <td>1</td>\n",
       "    </tr>\n",
       "    <tr>\n",
       "      <th>url</th>\n",
       "      <td>320749</td>\n",
       "      <td>320749</td>\n",
       "      <td>http://world-fr.openfoodfacts.org/produit/0000...</td>\n",
       "      <td>1</td>\n",
       "    </tr>\n",
       "    <tr>\n",
       "      <th>creator</th>\n",
       "      <td>320770</td>\n",
       "      <td>3535</td>\n",
       "      <td>usda-ndb-import</td>\n",
       "      <td>169868</td>\n",
       "    </tr>\n",
       "    <tr>\n",
       "      <th>created_t</th>\n",
       "      <td>320769</td>\n",
       "      <td>189567</td>\n",
       "      <td>1489077120</td>\n",
       "      <td>20</td>\n",
       "    </tr>\n",
       "    <tr>\n",
       "      <th>created_datetime</th>\n",
       "      <td>320763</td>\n",
       "      <td>189568</td>\n",
       "      <td>2017-03-09T10:37:09Z</td>\n",
       "      <td>20</td>\n",
       "    </tr>\n",
       "  </tbody>\n",
       "</table>\n",
       "</div>"
      ],
      "text/plain": [
       "                   count  unique  \\\n",
       "0                                  \n",
       "code              320749  320749   \n",
       "url               320749  320749   \n",
       "creator           320770    3535   \n",
       "created_t         320769  189567   \n",
       "created_datetime  320763  189568   \n",
       "\n",
       "                                                                top    freq  \n",
       "0                                                                            \n",
       "code                                                  0000000003087       1  \n",
       "url               http://world-fr.openfoodfacts.org/produit/0000...       1  \n",
       "creator                                             usda-ndb-import  169868  \n",
       "created_t                                                1489077120      20  \n",
       "created_datetime                               2017-03-09T10:37:09Z      20  "
      ]
     },
     "execution_count": 18,
     "metadata": {},
     "output_type": "execute_result"
    }
   ],
   "source": [
    "describ().head(5)"
   ]
  },
  {
   "attachments": {},
   "cell_type": "markdown",
   "metadata": {},
   "source": [
    "Verif si des lignes dupliquées (ce n'est pas le cas)"
   ]
  },
  {
   "cell_type": "code",
   "execution_count": 19,
   "metadata": {},
   "outputs": [
    {
     "data": {
      "text/plain": [
       "count     320772\n",
       "unique         1\n",
       "top        False\n",
       "freq      320772\n",
       "dtype: object"
      ]
     },
     "execution_count": 19,
     "metadata": {},
     "output_type": "execute_result"
    }
   ],
   "source": [
    "df.duplicated().describe().T"
   ]
  },
  {
   "attachments": {},
   "cell_type": "markdown",
   "metadata": {},
   "source": [
    "# II. NETTOYAGE DES DONNEES"
   ]
  },
  {
   "attachments": {},
   "cell_type": "markdown",
   "metadata": {},
   "source": [
    "Récup des col vides et les supprimer => df2."
   ]
  },
  {
   "cell_type": "code",
   "execution_count": 20,
   "metadata": {},
   "outputs": [],
   "source": [
    "def col_vides(table=df):\n",
    "    df2 = table.describe().T\n",
    "    df3 = df2[df2['count']==0]\n",
    "    return list(df3.index.values)"
   ]
  },
  {
   "cell_type": "code",
   "execution_count": 21,
   "metadata": {},
   "outputs": [],
   "source": [
    "df2 = df.drop(col_vides(), axis=1)"
   ]
  },
  {
   "cell_type": "code",
   "execution_count": 22,
   "metadata": {},
   "outputs": [
    {
     "data": {
      "text/plain": [
       "(320772, 146)"
      ]
     },
     "execution_count": 22,
     "metadata": {},
     "output_type": "execute_result"
    }
   ],
   "source": [
    "df2.shape #16 col sup"
   ]
  },
  {
   "attachments": {},
   "cell_type": "markdown",
   "metadata": {},
   "source": [
    "Vérif nature des col. => que des col \"object\" (pas de données numériques pour l'instant)."
   ]
  },
  {
   "cell_type": "code",
   "execution_count": 23,
   "metadata": {},
   "outputs": [],
   "source": [
    "#df2.dtypes"
   ]
  },
  {
   "attachments": {},
   "cell_type": "markdown",
   "metadata": {},
   "source": [
    "# Vérification \"à la main\" (viz sous Excel) des col que je souhaite supprimer (celles qui ne me semblent pas utiles pour mon appli). <br>\n",
    "J'ai retenu 98 col à supprimer."
   ]
  },
  {
   "cell_type": "code",
   "execution_count": 24,
   "metadata": {},
   "outputs": [],
   "source": [
    "to_remove = ['url',\n",
    " 'creator',\n",
    " 'created_t',\n",
    " 'created_datetime',\n",
    " 'last_modified_t',\n",
    " 'last_modified_datetime',\n",
    " 'generic_name',\n",
    " 'packaging',\n",
    " 'brands',\n",
    " 'categories',\n",
    " 'categories_tags',\n",
    " 'origins',\n",
    " 'manufacturing_places',\n",
    " 'labels',\n",
    " 'labels_tags',\n",
    " 'emb_codes',\n",
    " 'cities',\n",
    " 'countries',\n",
    " 'countries_tags',\n",
    " 'traces_tags',\n",
    " 'traces_fr',\n",
    " 'additives_tags',\n",
    " 'ingredients_from_palm_oil_n',\n",
    " 'ingredients_that_may_be_from_palm_oil_n',\n",
    " 'states',\n",
    " 'states_tags',\n",
    " 'states_fr',\n",
    " 'main_category',\n",
    " 'image_small_url',\n",
    " 'caprylic-acid_100g',\n",
    " 'capric-acid_100g',\n",
    " 'lauric-acid_100g',\n",
    " 'myristic-acid_100g',\n",
    " 'palmitic-acid_100g',\n",
    " 'stearic-acid_100g',\n",
    " 'arachidic-acid_100g',\n",
    " 'behenic-acid_100g',\n",
    " 'montanic-acid_100g',\n",
    " 'omega-3-fat_100g',\n",
    " 'alpha-linolenic-acid_100g',\n",
    " 'eicosapentaenoic-acid_100g',\n",
    " 'docosahexaenoic-acid_100g',\n",
    " 'omega-6-fat_100g',\n",
    " 'linoleic-acid_100g',\n",
    " 'arachidonic-acid_100g',\n",
    " 'gamma-linolenic-acid_100g',\n",
    " 'dihomo-gamma-linolenic-acid_100g',\n",
    " 'omega-9-fat_100g',\n",
    " 'oleic-acid_100g',\n",
    " 'gondoic-acid_100g',\n",
    " 'trans-fat_100g',\n",
    " 'sucrose_100g',\n",
    " 'glucose_100g',\n",
    " 'fructose_100g',\n",
    " 'lactose_100g',\n",
    " 'maltose_100g',\n",
    " 'maltodextrins_100g',\n",
    " 'starch_100g',\n",
    " 'polyols_100g',\n",
    " 'casein_100g',\n",
    " 'serum-proteins_100g',\n",
    " 'nucleotides_100g',\n",
    " 'sodium_100g',\n",
    " 'alcohol_100g',\n",
    " 'beta-carotene_100g',\n",
    " 'vitamin-d_100g',\n",
    " 'vitamin-e_100g',\n",
    " 'vitamin-k_100g',\n",
    " 'vitamin-b1_100g',\n",
    " 'vitamin-b2_100g',\n",
    " 'vitamin-pp_100g',\n",
    " 'vitamin-b6_100g',\n",
    " 'vitamin-b9_100g',\n",
    " 'folates_100g',\n",
    " 'vitamin-b12_100g',\n",
    " 'biotin_100g',\n",
    " 'pantothenic-acid_100g',\n",
    " 'silica_100g',\n",
    " 'bicarbonate_100g',\n",
    " 'potassium_100g',\n",
    " 'chloride_100g',\n",
    " 'phosphorus_100g',\n",
    " 'magnesium_100g',\n",
    " 'zinc_100g',\n",
    " 'copper_100g',\n",
    " 'manganese_100g',\n",
    " 'fluoride_100g',\n",
    " 'selenium_100g',\n",
    " 'chromium_100g',\n",
    " 'molybdenum_100g',\n",
    " 'iodine_100g',\n",
    " 'caffeine_100g',\n",
    " 'taurine_100g',\n",
    " 'ph_100g',\n",
    " 'fruits-vegetables-nuts_100g',\n",
    " 'collagen-meat-protein-ratio_100g',\n",
    " 'cocoa_100g',\n",
    " 'nutrition-score-uk_100g']"
   ]
  },
  {
   "attachments": {},
   "cell_type": "markdown",
   "metadata": {},
   "source": [
    "df2 devient df3 après 2e sppression de col."
   ]
  },
  {
   "cell_type": "code",
   "execution_count": 25,
   "metadata": {},
   "outputs": [],
   "source": [
    "df3 = df2.drop(columns=to_remove)"
   ]
  },
  {
   "cell_type": "code",
   "execution_count": 26,
   "metadata": {},
   "outputs": [
    {
     "data": {
      "text/plain": [
       "(320772, 48)"
      ]
     },
     "execution_count": 26,
     "metadata": {},
     "output_type": "execute_result"
    }
   ],
   "source": [
    "df3.shape"
   ]
  },
  {
   "attachments": {},
   "cell_type": "markdown",
   "metadata": {},
   "source": [
    "# déterminer le nb de NaN par colonne <br>(taux de non-remplissage en %) <br>\n",
    "Création de df4 en triant le % ds chq col par ordre décroissant."
   ]
  },
  {
   "cell_type": "code",
   "execution_count": 27,
   "metadata": {},
   "outputs": [
    {
     "data": {
      "text/html": [
       "<div>\n",
       "<style scoped>\n",
       "    .dataframe tbody tr th:only-of-type {\n",
       "        vertical-align: middle;\n",
       "    }\n",
       "\n",
       "    .dataframe tbody tr th {\n",
       "        vertical-align: top;\n",
       "    }\n",
       "\n",
       "    .dataframe thead th {\n",
       "        text-align: right;\n",
       "    }\n",
       "</style>\n",
       "<table border=\"1\" class=\"dataframe\">\n",
       "  <thead>\n",
       "    <tr style=\"text-align: right;\">\n",
       "      <th></th>\n",
       "      <th>Index</th>\n",
       "      <th>%NaN</th>\n",
       "    </tr>\n",
       "  </thead>\n",
       "  <tbody>\n",
       "    <tr>\n",
       "      <th>17</th>\n",
       "      <td>allergens_fr</td>\n",
       "      <td>99.9941</td>\n",
       "    </tr>\n",
       "    <tr>\n",
       "      <th>46</th>\n",
       "      <td>carbon-footprint_100g</td>\n",
       "      <td>99.9165</td>\n",
       "    </tr>\n",
       "    <tr>\n",
       "      <th>31</th>\n",
       "      <td>energy-from-fat_100g</td>\n",
       "      <td>99.7328</td>\n",
       "    </tr>\n",
       "    <tr>\n",
       "      <th>23</th>\n",
       "      <td>ingredients_from_palm_oil_tags</td>\n",
       "      <td>98.4927</td>\n",
       "    </tr>\n",
       "    <tr>\n",
       "      <th>24</th>\n",
       "      <td>ingredients_that_may_be_from_palm_oil_tags</td>\n",
       "      <td>96.3538</td>\n",
       "    </tr>\n",
       "    <tr>\n",
       "      <th>10</th>\n",
       "      <td>first_packaging_code_geo</td>\n",
       "      <td>94.1382</td>\n",
       "    </tr>\n",
       "    <tr>\n",
       "      <th>11</th>\n",
       "      <td>cities_tags</td>\n",
       "      <td>93.6653</td>\n",
       "    </tr>\n",
       "    <tr>\n",
       "      <th>6</th>\n",
       "      <td>origins_tags</td>\n",
       "      <td>93.0938</td>\n",
       "    </tr>\n",
       "    <tr>\n",
       "      <th>34</th>\n",
       "      <td>monounsaturated-fat_100g</td>\n",
       "      <td>92.8850</td>\n",
       "    </tr>\n",
       "    <tr>\n",
       "      <th>35</th>\n",
       "      <td>polyunsaturated-fat_100g</td>\n",
       "      <td>92.8738</td>\n",
       "    </tr>\n",
       "  </tbody>\n",
       "</table>\n",
       "</div>"
      ],
      "text/plain": [
       "                                         Index     %NaN\n",
       "17                                allergens_fr  99.9941\n",
       "46                       carbon-footprint_100g  99.9165\n",
       "31                        energy-from-fat_100g  99.7328\n",
       "23              ingredients_from_palm_oil_tags  98.4927\n",
       "24  ingredients_that_may_be_from_palm_oil_tags  96.3538\n",
       "10                    first_packaging_code_geo  94.1382\n",
       "11                                 cities_tags  93.6653\n",
       "6                                 origins_tags  93.0938\n",
       "34                    monounsaturated-fat_100g  92.8850\n",
       "35                    polyunsaturated-fat_100g  92.8738"
      ]
     },
     "execution_count": 27,
     "metadata": {},
     "output_type": "execute_result"
    }
   ],
   "source": [
    "d = {}\n",
    "for elt in list(df3.columns):\n",
    "    d[elt] = round(df3[elt].isna().sum()/len(df3)*100, 4)\n",
    "df4 = pd.DataFrame(d.items(), columns=['Index', '%NaN']).sort_values(by='%NaN', ascending=False)\n",
    "df4.head(10)"
   ]
  },
  {
   "cell_type": "code",
   "execution_count": 28,
   "metadata": {},
   "outputs": [
    {
     "data": {
      "text/plain": [
       "320504"
      ]
     },
     "execution_count": 28,
     "metadata": {},
     "output_type": "execute_result"
    }
   ],
   "source": [
    "df3['carbon-footprint_100g'].isna().sum() #verif pour le 2e"
   ]
  },
  {
   "cell_type": "code",
   "execution_count": 29,
   "metadata": {},
   "outputs": [
    {
     "data": {
      "image/png": "[encoded data removed]",
      "text/plain": [
       "<Figure size 432x288 with 1 Axes>"
      ]
     },
     "metadata": {
      "needs_background": "light"
     },
     "output_type": "display_data"
    }
   ],
   "source": [
    "hist = df4.hist(bins=20) #hist pour vérifier la distribution des %NaN de chq colonne."
   ]
  },
  {
   "attachments": {},
   "cell_type": "markdown",
   "metadata": {},
   "source": [
    "# /!\\ ATTENTION!! J'observe une \"cassure\" à env 60%. Je fixe donc un cut-off à 60% (col supprimées). <br> Mais il y a qq même des col que je souhaite garder malgré tout!"
   ]
  },
  {
   "cell_type": "code",
   "execution_count": 30,
   "metadata": {},
   "outputs": [],
   "source": [
    "def to_remove(cut=60):\n",
    "    df = df4[df4['%NaN'] >= cut]\n",
    "    return list(df['Index'])\n",
    "\n",
    "\n",
    "l2 = to_remove()"
   ]
  },
  {
   "attachments": {},
   "cell_type": "markdown",
   "metadata": {},
   "source": [
    "# /!\\ UN CHOIX DOIT ETRE FAIT SUR CE QUI ME SEMBLE IMPORTANT POUR LA SUITE. MALGRE LE CUT-OFF DE 60%, JE SOUHAITE CONSERVER DES COL QUI ME PARAISSENT IMPORTANTES POUR LA SUITE (l_tokeep)."
   ]
  },
  {
   "cell_type": "code",
   "execution_count": 31,
   "metadata": {},
   "outputs": [],
   "source": [
    "l_tokeep = ['carbon-footprint_100g', 'ingredients_from_palm_oil_tags', \n",
    "            'cities_tags', 'origins_tags', 'monounsaturated-fat_100g', \n",
    "            'polyunsaturated-fat_100g', 'traces', 'allergens', \n",
    "            'emb_codes_tags', 'manufacturing_places_tags',\n",
    "            'labels_fr', 'categories_fr','pnns_groups_1','pnns_groups_2']"
   ]
  },
  {
   "cell_type": "code",
   "execution_count": 32,
   "metadata": {},
   "outputs": [
    {
     "data": {
      "text/plain": [
       "['allergens_fr',\n",
       " 'energy-from-fat_100g',\n",
       " 'ingredients_that_may_be_from_palm_oil_tags',\n",
       " 'first_packaging_code_geo',\n",
       " 'stores',\n",
       " 'purchase_places',\n",
       " 'image_url',\n",
       " 'packaging_tags',\n",
       " 'main_category_fr',\n",
       " 'quantity']"
      ]
     },
     "execution_count": 32,
     "metadata": {},
     "output_type": "execute_result"
    }
   ],
   "source": [
    "for elt in l_tokeep:\n",
    "    l2.remove(elt)\n",
    "l2"
   ]
  },
  {
   "attachments": {},
   "cell_type": "markdown",
   "metadata": {},
   "source": [
    "df3 devient df5 après sup des col de l2."
   ]
  },
  {
   "cell_type": "code",
   "execution_count": 33,
   "metadata": {},
   "outputs": [],
   "source": [
    "df5 = df3.drop(columns=l2)"
   ]
  },
  {
   "cell_type": "code",
   "execution_count": 34,
   "metadata": {},
   "outputs": [
    {
     "data": {
      "text/plain": [
       "(320772, 38)"
      ]
     },
     "execution_count": 34,
     "metadata": {},
     "output_type": "execute_result"
    }
   ],
   "source": [
    "df5.shape"
   ]
  },
  {
   "attachments": {},
   "cell_type": "markdown",
   "metadata": {},
   "source": [
    "#Convertir les colonnes nécessaires en float ou int."
   ]
  },
  {
   "cell_type": "code",
   "execution_count": 35,
   "metadata": {},
   "outputs": [
    {
     "data": {
      "text/plain": [
       "Index(['energy_100g', 'fat_100g', 'saturated-fat_100g',\n",
       "       'monounsaturated-fat_100g', 'polyunsaturated-fat_100g',\n",
       "       'cholesterol_100g', 'carbohydrates_100g', 'sugars_100g', 'fiber_100g',\n",
       "       'proteins_100g', 'salt_100g', 'vitamin-a_100g', 'vitamin-c_100g',\n",
       "       'calcium_100g', 'iron_100g', 'carbon-footprint_100g',\n",
       "       'nutrition-score-fr_100g'],\n",
       "      dtype='object', name=0)"
      ]
     },
     "execution_count": 35,
     "metadata": {},
     "output_type": "execute_result"
    }
   ],
   "source": [
    "df5.columns[21:]"
   ]
  },
  {
   "cell_type": "code",
   "execution_count": 36,
   "metadata": {},
   "outputs": [],
   "source": [
    "df5[list(df5.columns[21:])] = df5[list(df5.columns[21:])].apply(pd.to_numeric, errors='coerce', downcast='float')\n",
    "df5[['additives_n']] = df5[['additives_n']].apply(pd.to_numeric, errors='coerce', downcast='integer')"
   ]
  },
  {
   "cell_type": "code",
   "execution_count": 37,
   "metadata": {},
   "outputs": [
    {
     "name": "stdout",
     "output_type": "stream",
     "text": [
      "<class 'pandas.core.frame.DataFrame'>\n",
      "RangeIndex: 320772 entries, 1 to 320772\n",
      "Data columns (total 38 columns):\n",
      " #   Column                          Non-Null Count   Dtype  \n",
      "---  ------                          --------------   -----  \n",
      " 0   code                            320749 non-null  object \n",
      " 1   product_name                    303010 non-null  object \n",
      " 2   brands_tags                     292352 non-null  object \n",
      " 3   categories_fr                   84411 non-null   object \n",
      " 4   origins_tags                    22153 non-null   object \n",
      " 5   manufacturing_places_tags       36495 non-null   object \n",
      " 6   labels_fr                       46666 non-null   object \n",
      " 7   emb_codes_tags                  29303 non-null   object \n",
      " 8   cities_tags                     20320 non-null   object \n",
      " 9   countries_fr                    320492 non-null  object \n",
      " 10  ingredients_text                248962 non-null  object \n",
      " 11  allergens                       28344 non-null   object \n",
      " 12  traces                          24353 non-null   object \n",
      " 13  serving_size                    211331 non-null  object \n",
      " 14  additives_n                     248939 non-null  float64\n",
      " 15  additives                       248905 non-null  object \n",
      " 16  additives_fr                    154680 non-null  object \n",
      " 17  ingredients_from_palm_oil_tags  4835 non-null    object \n",
      " 18  nutrition_grade_fr              221210 non-null  object \n",
      " 19  pnns_groups_1                   91513 non-null   object \n",
      " 20  pnns_groups_2                   94491 non-null   object \n",
      " 21  energy_100g                     261113 non-null  float32\n",
      " 22  fat_100g                        243891 non-null  float32\n",
      " 23  saturated-fat_100g              229554 non-null  float32\n",
      " 24  monounsaturated-fat_100g        22823 non-null   float32\n",
      " 25  polyunsaturated-fat_100g        22859 non-null   float32\n",
      " 26  cholesterol_100g                144090 non-null  float32\n",
      " 27  carbohydrates_100g              243588 non-null  float32\n",
      " 28  sugars_100g                     244971 non-null  float32\n",
      " 29  fiber_100g                      200886 non-null  float32\n",
      " 30  proteins_100g                   259922 non-null  float32\n",
      " 31  salt_100g                       255510 non-null  float32\n",
      " 32  vitamin-a_100g                  137554 non-null  float32\n",
      " 33  vitamin-c_100g                  140867 non-null  float32\n",
      " 34  calcium_100g                    141050 non-null  float32\n",
      " 35  iron_100g                       140462 non-null  float32\n",
      " 36  carbon-footprint_100g           268 non-null     float32\n",
      " 37  nutrition-score-fr_100g         221210 non-null  float32\n",
      "dtypes: float32(17), float64(1), object(20)\n",
      "memory usage: 72.2+ MB\n"
     ]
    }
   ],
   "source": [
    "df5.info()"
   ]
  },
  {
   "attachments": {},
   "cell_type": "markdown",
   "metadata": {},
   "source": [
    "#creation d'une fct pour rajouter une colonne 'Nb_NaN' comptant le nb de NaN dans chaque ligne <br> \n",
    "de la colonne \"energy_100g\" (index=21) jusqu'à la fin."
   ]
  },
  {
   "cell_type": "code",
   "execution_count": 38,
   "metadata": {},
   "outputs": [],
   "source": [
    "def NaN_rows(table=df5, col=21):\n",
    "    dico = {}\n",
    "    df = table.copy()\n",
    "    for i in range(0,len(table)):\n",
    "        dico[i]=df.iloc[i,col:].isna().sum()\n",
    "    df2 = pd.DataFrame.from_dict(dico, orient='index', columns=['Nb_NaN'])\n",
    "    df.insert(col, 'Nb_NaN', list(df2['Nb_NaN']))\n",
    "    return df"
   ]
  },
  {
   "cell_type": "code",
   "execution_count": 39,
   "metadata": {},
   "outputs": [],
   "source": [
    "df6 = NaN_rows() #un peu long 1min32"
   ]
  },
  {
   "cell_type": "code",
   "execution_count": 40,
   "metadata": {},
   "outputs": [
    {
     "data": {
      "text/html": [
       "<div>\n",
       "<style scoped>\n",
       "    .dataframe tbody tr th:only-of-type {\n",
       "        vertical-align: middle;\n",
       "    }\n",
       "\n",
       "    .dataframe tbody tr th {\n",
       "        vertical-align: top;\n",
       "    }\n",
       "\n",
       "    .dataframe thead th {\n",
       "        text-align: right;\n",
       "    }\n",
       "</style>\n",
       "<table border=\"1\" class=\"dataframe\">\n",
       "  <thead>\n",
       "    <tr style=\"text-align: right;\">\n",
       "      <th></th>\n",
       "      <th>code</th>\n",
       "      <th>product_name</th>\n",
       "      <th>brands_tags</th>\n",
       "      <th>categories_fr</th>\n",
       "      <th>origins_tags</th>\n",
       "      <th>manufacturing_places_tags</th>\n",
       "      <th>labels_fr</th>\n",
       "      <th>emb_codes_tags</th>\n",
       "      <th>cities_tags</th>\n",
       "      <th>countries_fr</th>\n",
       "      <th>ingredients_text</th>\n",
       "      <th>allergens</th>\n",
       "      <th>traces</th>\n",
       "      <th>serving_size</th>\n",
       "      <th>additives_n</th>\n",
       "      <th>additives</th>\n",
       "      <th>additives_fr</th>\n",
       "      <th>ingredients_from_palm_oil_tags</th>\n",
       "      <th>nutrition_grade_fr</th>\n",
       "      <th>pnns_groups_1</th>\n",
       "      <th>pnns_groups_2</th>\n",
       "      <th>Nb_NaN</th>\n",
       "      <th>energy_100g</th>\n",
       "      <th>fat_100g</th>\n",
       "      <th>saturated-fat_100g</th>\n",
       "      <th>monounsaturated-fat_100g</th>\n",
       "      <th>polyunsaturated-fat_100g</th>\n",
       "      <th>cholesterol_100g</th>\n",
       "      <th>carbohydrates_100g</th>\n",
       "      <th>sugars_100g</th>\n",
       "      <th>fiber_100g</th>\n",
       "      <th>proteins_100g</th>\n",
       "      <th>salt_100g</th>\n",
       "      <th>vitamin-a_100g</th>\n",
       "      <th>vitamin-c_100g</th>\n",
       "      <th>calcium_100g</th>\n",
       "      <th>iron_100g</th>\n",
       "      <th>carbon-footprint_100g</th>\n",
       "      <th>nutrition-score-fr_100g</th>\n",
       "    </tr>\n",
       "  </thead>\n",
       "  <tbody>\n",
       "    <tr>\n",
       "      <th>1</th>\n",
       "      <td>0000000003087</td>\n",
       "      <td>Farine de blé noir</td>\n",
       "      <td>ferme-t-y-r-nao</td>\n",
       "      <td>NaN</td>\n",
       "      <td>NaN</td>\n",
       "      <td>NaN</td>\n",
       "      <td>NaN</td>\n",
       "      <td>NaN</td>\n",
       "      <td>NaN</td>\n",
       "      <td>France</td>\n",
       "      <td>NaN</td>\n",
       "      <td>NaN</td>\n",
       "      <td>NaN</td>\n",
       "      <td>NaN</td>\n",
       "      <td>NaN</td>\n",
       "      <td>NaN</td>\n",
       "      <td>NaN</td>\n",
       "      <td>NaN</td>\n",
       "      <td>NaN</td>\n",
       "      <td>NaN</td>\n",
       "      <td>NaN</td>\n",
       "      <td>17</td>\n",
       "      <td>NaN</td>\n",
       "      <td>NaN</td>\n",
       "      <td>NaN</td>\n",
       "      <td>NaN</td>\n",
       "      <td>NaN</td>\n",
       "      <td>NaN</td>\n",
       "      <td>NaN</td>\n",
       "      <td>NaN</td>\n",
       "      <td>NaN</td>\n",
       "      <td>NaN</td>\n",
       "      <td>NaN</td>\n",
       "      <td>NaN</td>\n",
       "      <td>NaN</td>\n",
       "      <td>NaN</td>\n",
       "      <td>NaN</td>\n",
       "      <td>NaN</td>\n",
       "      <td>NaN</td>\n",
       "    </tr>\n",
       "    <tr>\n",
       "      <th>2</th>\n",
       "      <td>0000000004530</td>\n",
       "      <td>Banana Chips Sweetened (Whole)</td>\n",
       "      <td>NaN</td>\n",
       "      <td>NaN</td>\n",
       "      <td>NaN</td>\n",
       "      <td>NaN</td>\n",
       "      <td>NaN</td>\n",
       "      <td>NaN</td>\n",
       "      <td>NaN</td>\n",
       "      <td>États-Unis</td>\n",
       "      <td>Bananas, vegetable oil (coconut oil, corn oil ...</td>\n",
       "      <td>NaN</td>\n",
       "      <td>NaN</td>\n",
       "      <td>28 g (1 ONZ)</td>\n",
       "      <td>0.0</td>\n",
       "      <td>[ bananas -&gt; en:bananas  ]  [ vegetable-oil -...</td>\n",
       "      <td>NaN</td>\n",
       "      <td>NaN</td>\n",
       "      <td>d</td>\n",
       "      <td>NaN</td>\n",
       "      <td>NaN</td>\n",
       "      <td>3</td>\n",
       "      <td>2243.0</td>\n",
       "      <td>28.570000</td>\n",
       "      <td>28.57</td>\n",
       "      <td>NaN</td>\n",
       "      <td>NaN</td>\n",
       "      <td>0.018</td>\n",
       "      <td>64.290001</td>\n",
       "      <td>14.290000</td>\n",
       "      <td>3.6</td>\n",
       "      <td>3.570000</td>\n",
       "      <td>0.000</td>\n",
       "      <td>0.0</td>\n",
       "      <td>0.0214</td>\n",
       "      <td>0.000</td>\n",
       "      <td>0.00129</td>\n",
       "      <td>NaN</td>\n",
       "      <td>14.0</td>\n",
       "    </tr>\n",
       "    <tr>\n",
       "      <th>3</th>\n",
       "      <td>0000000004559</td>\n",
       "      <td>Peanuts</td>\n",
       "      <td>torn-glasser</td>\n",
       "      <td>NaN</td>\n",
       "      <td>NaN</td>\n",
       "      <td>NaN</td>\n",
       "      <td>NaN</td>\n",
       "      <td>NaN</td>\n",
       "      <td>NaN</td>\n",
       "      <td>États-Unis</td>\n",
       "      <td>Peanuts, wheat flour, sugar, rice flour, tapio...</td>\n",
       "      <td>NaN</td>\n",
       "      <td>NaN</td>\n",
       "      <td>28 g (0.25 cup)</td>\n",
       "      <td>0.0</td>\n",
       "      <td>[ peanuts -&gt; en:peanuts  ]  [ wheat-flour -&gt; ...</td>\n",
       "      <td>NaN</td>\n",
       "      <td>NaN</td>\n",
       "      <td>b</td>\n",
       "      <td>NaN</td>\n",
       "      <td>NaN</td>\n",
       "      <td>3</td>\n",
       "      <td>1941.0</td>\n",
       "      <td>17.860001</td>\n",
       "      <td>0.00</td>\n",
       "      <td>NaN</td>\n",
       "      <td>NaN</td>\n",
       "      <td>0.000</td>\n",
       "      <td>60.709999</td>\n",
       "      <td>17.860001</td>\n",
       "      <td>7.1</td>\n",
       "      <td>17.860001</td>\n",
       "      <td>0.635</td>\n",
       "      <td>0.0</td>\n",
       "      <td>0.0000</td>\n",
       "      <td>0.071</td>\n",
       "      <td>0.00129</td>\n",
       "      <td>NaN</td>\n",
       "      <td>0.0</td>\n",
       "    </tr>\n",
       "  </tbody>\n",
       "</table>\n",
       "</div>"
      ],
      "text/plain": [
       "0           code                    product_name      brands_tags  \\\n",
       "1  0000000003087              Farine de blé noir  ferme-t-y-r-nao   \n",
       "2  0000000004530  Banana Chips Sweetened (Whole)              NaN   \n",
       "3  0000000004559                         Peanuts     torn-glasser   \n",
       "\n",
       "0 categories_fr origins_tags manufacturing_places_tags labels_fr  \\\n",
       "1           NaN          NaN                       NaN       NaN   \n",
       "2           NaN          NaN                       NaN       NaN   \n",
       "3           NaN          NaN                       NaN       NaN   \n",
       "\n",
       "0 emb_codes_tags cities_tags countries_fr  \\\n",
       "1            NaN         NaN       France   \n",
       "2            NaN         NaN   États-Unis   \n",
       "3            NaN         NaN   États-Unis   \n",
       "\n",
       "0                                   ingredients_text allergens traces  \\\n",
       "1                                                NaN       NaN    NaN   \n",
       "2  Bananas, vegetable oil (coconut oil, corn oil ...       NaN    NaN   \n",
       "3  Peanuts, wheat flour, sugar, rice flour, tapio...       NaN    NaN   \n",
       "\n",
       "0     serving_size  additives_n  \\\n",
       "1              NaN          NaN   \n",
       "2     28 g (1 ONZ)          0.0   \n",
       "3  28 g (0.25 cup)          0.0   \n",
       "\n",
       "0                                          additives additives_fr  \\\n",
       "1                                                NaN          NaN   \n",
       "2   [ bananas -> en:bananas  ]  [ vegetable-oil -...          NaN   \n",
       "3   [ peanuts -> en:peanuts  ]  [ wheat-flour -> ...          NaN   \n",
       "\n",
       "0 ingredients_from_palm_oil_tags nutrition_grade_fr pnns_groups_1  \\\n",
       "1                            NaN                NaN           NaN   \n",
       "2                            NaN                  d           NaN   \n",
       "3                            NaN                  b           NaN   \n",
       "\n",
       "0 pnns_groups_2  Nb_NaN  energy_100g   fat_100g  saturated-fat_100g  \\\n",
       "1           NaN      17          NaN        NaN                 NaN   \n",
       "2           NaN       3       2243.0  28.570000               28.57   \n",
       "3           NaN       3       1941.0  17.860001                0.00   \n",
       "\n",
       "0  monounsaturated-fat_100g  polyunsaturated-fat_100g  cholesterol_100g  \\\n",
       "1                       NaN                       NaN               NaN   \n",
       "2                       NaN                       NaN             0.018   \n",
       "3                       NaN                       NaN             0.000   \n",
       "\n",
       "0  carbohydrates_100g  sugars_100g  fiber_100g  proteins_100g  salt_100g  \\\n",
       "1                 NaN          NaN         NaN            NaN        NaN   \n",
       "2           64.290001    14.290000         3.6       3.570000      0.000   \n",
       "3           60.709999    17.860001         7.1      17.860001      0.635   \n",
       "\n",
       "0  vitamin-a_100g  vitamin-c_100g  calcium_100g  iron_100g  \\\n",
       "1             NaN             NaN           NaN        NaN   \n",
       "2             0.0          0.0214         0.000    0.00129   \n",
       "3             0.0          0.0000         0.071    0.00129   \n",
       "\n",
       "0  carbon-footprint_100g  nutrition-score-fr_100g  \n",
       "1                    NaN                      NaN  \n",
       "2                    NaN                     14.0  \n",
       "3                    NaN                      0.0  "
      ]
     },
     "execution_count": 40,
     "metadata": {},
     "output_type": "execute_result"
    }
   ],
   "source": [
    "df6.head(3)"
   ]
  },
  {
   "attachments": {},
   "cell_type": "markdown",
   "metadata": {},
   "source": [
    "# /!\\ Je me fixe comme critère qu'il ne faut pas qu'il y ait plus de 13 (compris) <br>\n",
    "# dans la liste des données quantitatives <br> (il faut que l'on ait au moins des données pour 'fat, carbohy, prot et sel')."
   ]
  },
  {
   "cell_type": "code",
   "execution_count": 41,
   "metadata": {},
   "outputs": [],
   "source": [
    "df7 = df6[df6['Nb_NaN']<13]"
   ]
  },
  {
   "cell_type": "code",
   "execution_count": 42,
   "metadata": {},
   "outputs": [
    {
     "data": {
      "text/plain": [
       "(257076, 39)"
      ]
     },
     "execution_count": 42,
     "metadata": {},
     "output_type": "execute_result"
    }
   ],
   "source": [
    "df7.shape"
   ]
  },
  {
   "cell_type": "code",
   "execution_count": 43,
   "metadata": {},
   "outputs": [
    {
     "name": "stdout",
     "output_type": "stream",
     "text": [
      "Il y a 63696 produits avec plus de 13 NaN à partir de la colonne \"energy_100g\" qui ont été supprimées pour former le df7.\n"
     ]
    }
   ],
   "source": [
    "print(f'Il y a {len(df5)-len(df7)} produits avec plus de 13 NaN à partir de la colonne \"energy_100g\" qui ont été supprimées pour former le df7.')"
   ]
  },
  {
   "cell_type": "code",
   "execution_count": 44,
   "metadata": {},
   "outputs": [
    {
     "data": {
      "text/html": [
       "<div>\n",
       "<style scoped>\n",
       "    .dataframe tbody tr th:only-of-type {\n",
       "        vertical-align: middle;\n",
       "    }\n",
       "\n",
       "    .dataframe tbody tr th {\n",
       "        vertical-align: top;\n",
       "    }\n",
       "\n",
       "    .dataframe thead th {\n",
       "        text-align: right;\n",
       "    }\n",
       "</style>\n",
       "<table border=\"1\" class=\"dataframe\">\n",
       "  <thead>\n",
       "    <tr style=\"text-align: right;\">\n",
       "      <th></th>\n",
       "      <th>count</th>\n",
       "      <th>mean</th>\n",
       "      <th>std</th>\n",
       "      <th>min</th>\n",
       "      <th>25%</th>\n",
       "      <th>50%</th>\n",
       "      <th>75%</th>\n",
       "      <th>max</th>\n",
       "    </tr>\n",
       "    <tr>\n",
       "      <th>0</th>\n",
       "      <th></th>\n",
       "      <th></th>\n",
       "      <th></th>\n",
       "      <th></th>\n",
       "      <th></th>\n",
       "      <th></th>\n",
       "      <th></th>\n",
       "      <th></th>\n",
       "    </tr>\n",
       "  </thead>\n",
       "  <tbody>\n",
       "    <tr>\n",
       "      <th>additives_n</th>\n",
       "      <td>231151.0</td>\n",
       "      <td>2.004625</td>\n",
       "      <td>2.518632</td>\n",
       "      <td>0.000000</td>\n",
       "      <td>0.000000</td>\n",
       "      <td>1.000000</td>\n",
       "      <td>3.000000</td>\n",
       "      <td>3.100000e+01</td>\n",
       "    </tr>\n",
       "    <tr>\n",
       "      <th>Nb_NaN</th>\n",
       "      <td>257076.0</td>\n",
       "      <td>5.749280</td>\n",
       "      <td>3.281505</td>\n",
       "      <td>1.000000</td>\n",
       "      <td>3.000000</td>\n",
       "      <td>3.000000</td>\n",
       "      <td>9.000000</td>\n",
       "      <td>1.200000e+01</td>\n",
       "    </tr>\n",
       "    <tr>\n",
       "      <th>energy_100g</th>\n",
       "      <td>256662.0</td>\n",
       "      <td>1144.577393</td>\n",
       "      <td>6501.150879</td>\n",
       "      <td>0.000000</td>\n",
       "      <td>377.000000</td>\n",
       "      <td>1105.000000</td>\n",
       "      <td>1674.000000</td>\n",
       "      <td>3.251373e+06</td>\n",
       "    </tr>\n",
       "    <tr>\n",
       "      <th>fat_100g</th>\n",
       "      <td>239498.0</td>\n",
       "      <td>12.714128</td>\n",
       "      <td>17.552208</td>\n",
       "      <td>0.000000</td>\n",
       "      <td>0.000000</td>\n",
       "      <td>5.000000</td>\n",
       "      <td>20.000000</td>\n",
       "      <td>7.142900e+02</td>\n",
       "    </tr>\n",
       "    <tr>\n",
       "      <th>saturated-fat_100g</th>\n",
       "      <td>229454.0</td>\n",
       "      <td>5.127654</td>\n",
       "      <td>8.002268</td>\n",
       "      <td>0.000000</td>\n",
       "      <td>0.000000</td>\n",
       "      <td>1.790000</td>\n",
       "      <td>7.140000</td>\n",
       "      <td>5.500000e+02</td>\n",
       "    </tr>\n",
       "    <tr>\n",
       "      <th>monounsaturated-fat_100g</th>\n",
       "      <td>22821.0</td>\n",
       "      <td>10.422968</td>\n",
       "      <td>17.072582</td>\n",
       "      <td>0.000000</td>\n",
       "      <td>0.000000</td>\n",
       "      <td>4.000000</td>\n",
       "      <td>10.710000</td>\n",
       "      <td>5.571400e+02</td>\n",
       "    </tr>\n",
       "    <tr>\n",
       "      <th>polyunsaturated-fat_100g</th>\n",
       "      <td>22857.0</td>\n",
       "      <td>6.310235</td>\n",
       "      <td>10.826531</td>\n",
       "      <td>0.000000</td>\n",
       "      <td>0.000000</td>\n",
       "      <td>2.220000</td>\n",
       "      <td>7.140000</td>\n",
       "      <td>9.800000e+01</td>\n",
       "    </tr>\n",
       "    <tr>\n",
       "      <th>cholesterol_100g</th>\n",
       "      <td>144082.0</td>\n",
       "      <td>0.020064</td>\n",
       "      <td>0.357997</td>\n",
       "      <td>0.000000</td>\n",
       "      <td>0.000000</td>\n",
       "      <td>0.000000</td>\n",
       "      <td>0.020000</td>\n",
       "      <td>9.523800e+01</td>\n",
       "    </tr>\n",
       "    <tr>\n",
       "      <th>carbohydrates_100g</th>\n",
       "      <td>239449.0</td>\n",
       "      <td>32.166660</td>\n",
       "      <td>29.734013</td>\n",
       "      <td>0.000000</td>\n",
       "      <td>6.020000</td>\n",
       "      <td>21.000000</td>\n",
       "      <td>58.500000</td>\n",
       "      <td>2.916670e+03</td>\n",
       "    </tr>\n",
       "    <tr>\n",
       "      <th>sugars_100g</th>\n",
       "      <td>244638.0</td>\n",
       "      <td>15.981215</td>\n",
       "      <td>22.304308</td>\n",
       "      <td>-17.860001</td>\n",
       "      <td>1.300000</td>\n",
       "      <td>5.700000</td>\n",
       "      <td>24.000000</td>\n",
       "      <td>3.520000e+03</td>\n",
       "    </tr>\n",
       "    <tr>\n",
       "      <th>fiber_100g</th>\n",
       "      <td>200841.0</td>\n",
       "      <td>2.861619</td>\n",
       "      <td>12.868859</td>\n",
       "      <td>-6.700000</td>\n",
       "      <td>0.000000</td>\n",
       "      <td>1.500000</td>\n",
       "      <td>3.600000</td>\n",
       "      <td>5.380000e+03</td>\n",
       "    </tr>\n",
       "    <tr>\n",
       "      <th>proteins_100g</th>\n",
       "      <td>256008.0</td>\n",
       "      <td>7.063031</td>\n",
       "      <td>8.395805</td>\n",
       "      <td>-800.000000</td>\n",
       "      <td>0.700000</td>\n",
       "      <td>4.760000</td>\n",
       "      <td>10.000000</td>\n",
       "      <td>4.300000e+02</td>\n",
       "    </tr>\n",
       "    <tr>\n",
       "      <th>salt_100g</th>\n",
       "      <td>255074.0</td>\n",
       "      <td>2.016042</td>\n",
       "      <td>128.357178</td>\n",
       "      <td>0.000000</td>\n",
       "      <td>0.063500</td>\n",
       "      <td>0.584200</td>\n",
       "      <td>1.376680</td>\n",
       "      <td>6.431280e+04</td>\n",
       "    </tr>\n",
       "    <tr>\n",
       "      <th>vitamin-a_100g</th>\n",
       "      <td>137545.0</td>\n",
       "      <td>0.000396</td>\n",
       "      <td>0.073280</td>\n",
       "      <td>-0.000340</td>\n",
       "      <td>0.000000</td>\n",
       "      <td>0.000000</td>\n",
       "      <td>0.000107</td>\n",
       "      <td>2.670000e+01</td>\n",
       "    </tr>\n",
       "    <tr>\n",
       "      <th>vitamin-c_100g</th>\n",
       "      <td>140820.0</td>\n",
       "      <td>0.021532</td>\n",
       "      <td>2.211368</td>\n",
       "      <td>-0.002100</td>\n",
       "      <td>0.000000</td>\n",
       "      <td>0.000000</td>\n",
       "      <td>0.003700</td>\n",
       "      <td>7.169811e+02</td>\n",
       "    </tr>\n",
       "    <tr>\n",
       "      <th>calcium_100g</th>\n",
       "      <td>140839.0</td>\n",
       "      <td>0.124790</td>\n",
       "      <td>3.318865</td>\n",
       "      <td>0.000000</td>\n",
       "      <td>0.000000</td>\n",
       "      <td>0.035000</td>\n",
       "      <td>0.106000</td>\n",
       "      <td>6.947370e+02</td>\n",
       "    </tr>\n",
       "    <tr>\n",
       "      <th>iron_100g</th>\n",
       "      <td>140442.0</td>\n",
       "      <td>0.003650</td>\n",
       "      <td>0.214405</td>\n",
       "      <td>-0.000260</td>\n",
       "      <td>0.000000</td>\n",
       "      <td>0.001010</td>\n",
       "      <td>0.002400</td>\n",
       "      <td>5.000000e+01</td>\n",
       "    </tr>\n",
       "    <tr>\n",
       "      <th>carbon-footprint_100g</th>\n",
       "      <td>241.0</td>\n",
       "      <td>339.568085</td>\n",
       "      <td>437.252869</td>\n",
       "      <td>0.000000</td>\n",
       "      <td>82.800003</td>\n",
       "      <td>193.399994</td>\n",
       "      <td>365.000000</td>\n",
       "      <td>2.842000e+03</td>\n",
       "    </tr>\n",
       "    <tr>\n",
       "      <th>nutrition-score-fr_100g</th>\n",
       "      <td>221019.0</td>\n",
       "      <td>9.173641</td>\n",
       "      <td>9.055850</td>\n",
       "      <td>-15.000000</td>\n",
       "      <td>1.000000</td>\n",
       "      <td>10.000000</td>\n",
       "      <td>16.000000</td>\n",
       "      <td>4.000000e+01</td>\n",
       "    </tr>\n",
       "  </tbody>\n",
       "</table>\n",
       "</div>"
      ],
      "text/plain": [
       "                             count         mean          std         min  \\\n",
       "0                                                                          \n",
       "additives_n               231151.0     2.004625     2.518632    0.000000   \n",
       "Nb_NaN                    257076.0     5.749280     3.281505    1.000000   \n",
       "energy_100g               256662.0  1144.577393  6501.150879    0.000000   \n",
       "fat_100g                  239498.0    12.714128    17.552208    0.000000   \n",
       "saturated-fat_100g        229454.0     5.127654     8.002268    0.000000   \n",
       "monounsaturated-fat_100g   22821.0    10.422968    17.072582    0.000000   \n",
       "polyunsaturated-fat_100g   22857.0     6.310235    10.826531    0.000000   \n",
       "cholesterol_100g          144082.0     0.020064     0.357997    0.000000   \n",
       "carbohydrates_100g        239449.0    32.166660    29.734013    0.000000   \n",
       "sugars_100g               244638.0    15.981215    22.304308  -17.860001   \n",
       "fiber_100g                200841.0     2.861619    12.868859   -6.700000   \n",
       "proteins_100g             256008.0     7.063031     8.395805 -800.000000   \n",
       "salt_100g                 255074.0     2.016042   128.357178    0.000000   \n",
       "vitamin-a_100g            137545.0     0.000396     0.073280   -0.000340   \n",
       "vitamin-c_100g            140820.0     0.021532     2.211368   -0.002100   \n",
       "calcium_100g              140839.0     0.124790     3.318865    0.000000   \n",
       "iron_100g                 140442.0     0.003650     0.214405   -0.000260   \n",
       "carbon-footprint_100g        241.0   339.568085   437.252869    0.000000   \n",
       "nutrition-score-fr_100g   221019.0     9.173641     9.055850  -15.000000   \n",
       "\n",
       "                                 25%          50%          75%           max  \n",
       "0                                                                             \n",
       "additives_n                 0.000000     1.000000     3.000000  3.100000e+01  \n",
       "Nb_NaN                      3.000000     3.000000     9.000000  1.200000e+01  \n",
       "energy_100g               377.000000  1105.000000  1674.000000  3.251373e+06  \n",
       "fat_100g                    0.000000     5.000000    20.000000  7.142900e+02  \n",
       "saturated-fat_100g          0.000000     1.790000     7.140000  5.500000e+02  \n",
       "monounsaturated-fat_100g    0.000000     4.000000    10.710000  5.571400e+02  \n",
       "polyunsaturated-fat_100g    0.000000     2.220000     7.140000  9.800000e+01  \n",
       "cholesterol_100g            0.000000     0.000000     0.020000  9.523800e+01  \n",
       "carbohydrates_100g          6.020000    21.000000    58.500000  2.916670e+03  \n",
       "sugars_100g                 1.300000     5.700000    24.000000  3.520000e+03  \n",
       "fiber_100g                  0.000000     1.500000     3.600000  5.380000e+03  \n",
       "proteins_100g               0.700000     4.760000    10.000000  4.300000e+02  \n",
       "salt_100g                   0.063500     0.584200     1.376680  6.431280e+04  \n",
       "vitamin-a_100g              0.000000     0.000000     0.000107  2.670000e+01  \n",
       "vitamin-c_100g              0.000000     0.000000     0.003700  7.169811e+02  \n",
       "calcium_100g                0.000000     0.035000     0.106000  6.947370e+02  \n",
       "iron_100g                   0.000000     0.001010     0.002400  5.000000e+01  \n",
       "carbon-footprint_100g      82.800003   193.399994   365.000000  2.842000e+03  \n",
       "nutrition-score-fr_100g     1.000000    10.000000    16.000000  4.000000e+01  "
      ]
     },
     "execution_count": 44,
     "metadata": {},
     "output_type": "execute_result"
    }
   ],
   "source": [
    "describ(df7)"
   ]
  },
  {
   "attachments": {},
   "cell_type": "markdown",
   "metadata": {},
   "source": [
    "# III. GESTION DES DONNEES ABERRANTES."
   ]
  },
  {
   "attachments": {},
   "cell_type": "markdown",
   "metadata": {},
   "source": [
    "Création de df8 qui regroupe que les data numériques de df7."
   ]
  },
  {
   "cell_type": "code",
   "execution_count": 45,
   "metadata": {},
   "outputs": [],
   "source": [
    "df8 = df7.iloc[:,22:]"
   ]
  },
  {
   "attachments": {},
   "cell_type": "markdown",
   "metadata": {},
   "source": [
    "Val neg : qq unes et bcp pour nutri_score (normal car scale de -15 à 40)."
   ]
  },
  {
   "cell_type": "code",
   "execution_count": 46,
   "metadata": {},
   "outputs": [
    {
     "data": {
      "text/plain": [
       "0\n",
       "energy_100g                     0\n",
       "fat_100g                        0\n",
       "saturated-fat_100g              0\n",
       "monounsaturated-fat_100g        0\n",
       "polyunsaturated-fat_100g        0\n",
       "cholesterol_100g                0\n",
       "carbohydrates_100g              0\n",
       "sugars_100g                     7\n",
       "fiber_100g                      1\n",
       "proteins_100g                   3\n",
       "salt_100g                       0\n",
       "vitamin-a_100g                  1\n",
       "vitamin-c_100g                  1\n",
       "calcium_100g                    0\n",
       "iron_100g                       1\n",
       "carbon-footprint_100g           0\n",
       "nutrition-score-fr_100g     35699\n",
       "dtype: int64"
      ]
     },
     "execution_count": 46,
     "metadata": {},
     "output_type": "execute_result"
    }
   ],
   "source": [
    "df8.where(df8 < 0).count()"
   ]
  },
  {
   "attachments": {},
   "cell_type": "markdown",
   "metadata": {},
   "source": [
    "Val sup 100 : bcp et énormément pour energy_100g (normal car pas limité à 100g mais en kj/100g)."
   ]
  },
  {
   "cell_type": "code",
   "execution_count": 47,
   "metadata": {},
   "outputs": [
    {
     "data": {
      "text/plain": [
       "0\n",
       "energy_100g                 238951\n",
       "fat_100g                         4\n",
       "saturated-fat_100g               3\n",
       "monounsaturated-fat_100g         1\n",
       "polyunsaturated-fat_100g         0\n",
       "cholesterol_100g                 0\n",
       "carbohydrates_100g              17\n",
       "sugars_100g                     11\n",
       "fiber_100g                       4\n",
       "proteins_100g                    1\n",
       "salt_100g                      151\n",
       "vitamin-a_100g                   0\n",
       "vitamin-c_100g                   3\n",
       "calcium_100g                    10\n",
       "iron_100g                        0\n",
       "carbon-footprint_100g          175\n",
       "nutrition-score-fr_100g          0\n",
       "dtype: int64"
      ]
     },
     "execution_count": 47,
     "metadata": {},
     "output_type": "execute_result"
    }
   ],
   "source": [
    "df8.where(df8 > 100).count()"
   ]
  },
  {
   "attachments": {},
   "cell_type": "markdown",
   "metadata": {},
   "source": [
    "Création d'une fct pr remplacer les val neg par 0."
   ]
  },
  {
   "cell_type": "code",
   "execution_count": 48,
   "metadata": {},
   "outputs": [],
   "source": [
    "def replace_Neg():\n",
    "    df = df7.copy()\n",
    "    for elt in df.columns[29:-2]:\n",
    "        df[elt] = df[elt].apply(lambda x : x if x > 0 else 0)\n",
    "    return df"
   ]
  },
  {
   "cell_type": "code",
   "execution_count": 49,
   "metadata": {},
   "outputs": [],
   "source": [
    "df9 = replace_Neg()"
   ]
  },
  {
   "attachments": {},
   "cell_type": "markdown",
   "metadata": {},
   "source": [
    "Vérif => ok"
   ]
  },
  {
   "cell_type": "code",
   "execution_count": 50,
   "metadata": {},
   "outputs": [
    {
     "data": {
      "text/html": [
       "<div>\n",
       "<style scoped>\n",
       "    .dataframe tbody tr th:only-of-type {\n",
       "        vertical-align: middle;\n",
       "    }\n",
       "\n",
       "    .dataframe tbody tr th {\n",
       "        vertical-align: top;\n",
       "    }\n",
       "\n",
       "    .dataframe thead th {\n",
       "        text-align: right;\n",
       "    }\n",
       "</style>\n",
       "<table border=\"1\" class=\"dataframe\">\n",
       "  <thead>\n",
       "    <tr style=\"text-align: right;\">\n",
       "      <th></th>\n",
       "      <th>code</th>\n",
       "      <th>product_name</th>\n",
       "      <th>brands_tags</th>\n",
       "      <th>categories_fr</th>\n",
       "      <th>origins_tags</th>\n",
       "      <th>manufacturing_places_tags</th>\n",
       "      <th>labels_fr</th>\n",
       "      <th>emb_codes_tags</th>\n",
       "      <th>cities_tags</th>\n",
       "      <th>countries_fr</th>\n",
       "      <th>ingredients_text</th>\n",
       "      <th>allergens</th>\n",
       "      <th>traces</th>\n",
       "      <th>serving_size</th>\n",
       "      <th>additives_n</th>\n",
       "      <th>additives</th>\n",
       "      <th>additives_fr</th>\n",
       "      <th>ingredients_from_palm_oil_tags</th>\n",
       "      <th>nutrition_grade_fr</th>\n",
       "      <th>pnns_groups_1</th>\n",
       "      <th>pnns_groups_2</th>\n",
       "      <th>Nb_NaN</th>\n",
       "      <th>energy_100g</th>\n",
       "      <th>fat_100g</th>\n",
       "      <th>saturated-fat_100g</th>\n",
       "      <th>monounsaturated-fat_100g</th>\n",
       "      <th>polyunsaturated-fat_100g</th>\n",
       "      <th>cholesterol_100g</th>\n",
       "      <th>carbohydrates_100g</th>\n",
       "      <th>sugars_100g</th>\n",
       "      <th>fiber_100g</th>\n",
       "      <th>proteins_100g</th>\n",
       "      <th>salt_100g</th>\n",
       "      <th>vitamin-a_100g</th>\n",
       "      <th>vitamin-c_100g</th>\n",
       "      <th>calcium_100g</th>\n",
       "      <th>iron_100g</th>\n",
       "      <th>carbon-footprint_100g</th>\n",
       "      <th>nutrition-score-fr_100g</th>\n",
       "    </tr>\n",
       "  </thead>\n",
       "  <tbody>\n",
       "  </tbody>\n",
       "</table>\n",
       "</div>"
      ],
      "text/plain": [
       "Empty DataFrame\n",
       "Columns: [code, product_name, brands_tags, categories_fr, origins_tags, manufacturing_places_tags, labels_fr, emb_codes_tags, cities_tags, countries_fr, ingredients_text, allergens, traces, serving_size, additives_n, additives, additives_fr, ingredients_from_palm_oil_tags, nutrition_grade_fr, pnns_groups_1, pnns_groups_2, Nb_NaN, energy_100g, fat_100g, saturated-fat_100g, monounsaturated-fat_100g, polyunsaturated-fat_100g, cholesterol_100g, carbohydrates_100g, sugars_100g, fiber_100g, proteins_100g, salt_100g, vitamin-a_100g, vitamin-c_100g, calcium_100g, iron_100g, carbon-footprint_100g, nutrition-score-fr_100g]\n",
       "Index: []"
      ]
     },
     "execution_count": 50,
     "metadata": {},
     "output_type": "execute_result"
    }
   ],
   "source": [
    "df9[(df9['sugars_100g'] < 0) | \n",
    "           (df9['fiber_100g'] < 0) |\n",
    "           (df9['proteins_100g'] < 0) |\n",
    "           (df9['vitamin-a_100g'] < 0) |\n",
    "           (df9['vitamin-c_100g'] < 0) |\n",
    "           (df9['iron_100g'] < 0)]"
   ]
  },
  {
   "attachments": {},
   "cell_type": "markdown",
   "metadata": {},
   "source": [
    "Je supprime toutes les valeurs trop grandes (>110 g) et les energy_100g > 4000 kJ/100g (max pour les lipides : energy inf à 4000 kj/100g, source : https://en.wikipedia.org/wiki/Food_energy). <br>\n",
    "#Cut-off à 110 g correspond à 10% d'erreur de mesure. "
   ]
  },
  {
   "cell_type": "code",
   "execution_count": 51,
   "metadata": {},
   "outputs": [],
   "source": [
    "def delete_higherVal():\n",
    "    df = df9.copy()\n",
    "    df.drop(df[df['energy_100g'] > 4000].index, inplace=True)\n",
    "    for elt in df9.columns[23:-2]:\n",
    "        df.drop(df[df[elt] > 110].index, inplace=True)\n",
    "    return df"
   ]
  },
  {
   "cell_type": "code",
   "execution_count": 52,
   "metadata": {},
   "outputs": [],
   "source": [
    "df10 = delete_higherVal()"
   ]
  },
  {
   "cell_type": "code",
   "execution_count": 53,
   "metadata": {},
   "outputs": [
    {
     "data": {
      "text/plain": [
       "(256843, 39)"
      ]
     },
     "execution_count": 53,
     "metadata": {},
     "output_type": "execute_result"
    }
   ],
   "source": [
    "df10.shape"
   ]
  },
  {
   "cell_type": "code",
   "execution_count": 54,
   "metadata": {},
   "outputs": [
    {
     "data": {
      "text/plain": [
       "(257076, 39)"
      ]
     },
     "execution_count": 54,
     "metadata": {},
     "output_type": "execute_result"
    }
   ],
   "source": [
    "df9.shape"
   ]
  },
  {
   "cell_type": "code",
   "execution_count": 55,
   "metadata": {},
   "outputs": [],
   "source": [
    "def val_sup(table=df10, val=100, debut=22, fin=-2):\n",
    "    df = table.copy()\n",
    "    df2 = df.iloc[:,debut:fin]\n",
    "    return df2.where(df2 > val).count()"
   ]
  },
  {
   "cell_type": "code",
   "execution_count": 56,
   "metadata": {},
   "outputs": [
    {
     "data": {
      "text/plain": [
       "0\n",
       "energy_100g                 238743\n",
       "fat_100g                         2\n",
       "saturated-fat_100g               0\n",
       "monounsaturated-fat_100g         0\n",
       "polyunsaturated-fat_100g         0\n",
       "cholesterol_100g                 0\n",
       "carbohydrates_100g               9\n",
       "sugars_100g                      7\n",
       "fiber_100g                       0\n",
       "proteins_100g                    0\n",
       "salt_100g                       90\n",
       "vitamin-a_100g                   0\n",
       "vitamin-c_100g                   0\n",
       "calcium_100g                     0\n",
       "iron_100g                        0\n",
       "dtype: int64"
      ]
     },
     "execution_count": 56,
     "metadata": {},
     "output_type": "execute_result"
    }
   ],
   "source": [
    "val_sup()"
   ]
  },
  {
   "attachments": {},
   "cell_type": "markdown",
   "metadata": {},
   "source": [
    "Remplacer toutes les val comprises entre 100 et 110 (sauf energy_100g) par 100."
   ]
  },
  {
   "cell_type": "code",
   "execution_count": 57,
   "metadata": {},
   "outputs": [],
   "source": [
    "def replace_Pos():\n",
    "    df = df10.copy()\n",
    "    for elt in df.columns[23:-2]:\n",
    "        ind = df[elt].isna() #rajout de code par Vincent (mentor) => sinon toutes les valeurs NaN sont remplacées par 100!\n",
    "        df[elt] = df[elt].apply(lambda x : x if x <= 100 else 100)\n",
    "        df.loc[ind,elt] = np.nan #suite code Vincent\n",
    "    return df"
   ]
  },
  {
   "cell_type": "code",
   "execution_count": 58,
   "metadata": {},
   "outputs": [],
   "source": [
    "df11 = replace_Pos()"
   ]
  },
  {
   "cell_type": "code",
   "execution_count": 59,
   "metadata": {},
   "outputs": [
    {
     "data": {
      "text/plain": [
       "0\n",
       "energy_100g                 238743\n",
       "fat_100g                         0\n",
       "saturated-fat_100g               0\n",
       "monounsaturated-fat_100g         0\n",
       "polyunsaturated-fat_100g         0\n",
       "cholesterol_100g                 0\n",
       "carbohydrates_100g               0\n",
       "sugars_100g                      0\n",
       "fiber_100g                       0\n",
       "proteins_100g                    0\n",
       "salt_100g                        0\n",
       "vitamin-a_100g                   0\n",
       "vitamin-c_100g                   0\n",
       "calcium_100g                     0\n",
       "iron_100g                        0\n",
       "dtype: int64"
      ]
     },
     "execution_count": 59,
     "metadata": {},
     "output_type": "execute_result"
    }
   ],
   "source": [
    "val_sup(table=df11, val=100, debut=22, fin=-2)"
   ]
  },
  {
   "attachments": {},
   "cell_type": "markdown",
   "metadata": {},
   "source": [
    "Ok, c'est bon!"
   ]
  },
  {
   "attachments": {},
   "cell_type": "markdown",
   "metadata": {},
   "source": [
    "Appliquer un dernier filtre : supprimer les lignes quand somme(fat+prot+carbo+salt+fiber)>100g<br>\n",
    "ou quand somme des lipides > fat ou quand sugars > carbohydrates."
   ]
  },
  {
   "cell_type": "code",
   "execution_count": 60,
   "metadata": {},
   "outputs": [
    {
     "data": {
      "text/plain": [
       "count    238792.000000\n",
       "mean         55.635817\n",
       "std          35.443826\n",
       "min           0.000000\n",
       "25%          21.778000\n",
       "50%          53.330002\n",
       "75%          92.100000\n",
       "max         238.703995\n",
       "dtype: float64"
      ]
     },
     "execution_count": 60,
     "metadata": {},
     "output_type": "execute_result"
    }
   ],
   "source": [
    "df11b = df11['fat_100g']+df11['carbohydrates_100g']+df11['proteins_100g']+df11['fiber_100g']+df11['salt_100g']\n",
    "describ(df11b)"
   ]
  },
  {
   "cell_type": "code",
   "execution_count": 61,
   "metadata": {},
   "outputs": [
    {
     "data": {
      "text/plain": [
       "<seaborn.axisgrid.FacetGrid at 0x181de3a46a0>"
      ]
     },
     "execution_count": 61,
     "metadata": {},
     "output_type": "execute_result"
    },
    {
     "data": {
      "image/png": "[encoded data removed]",
      "text/plain": [
       "<Figure size 360x360 with 1 Axes>"
      ]
     },
     "metadata": {
      "needs_background": "light"
     },
     "output_type": "display_data"
    }
   ],
   "source": [
    "sns.displot(x=df11b,kind='kde')"
   ]
  },
  {
   "cell_type": "code",
   "execution_count": 62,
   "metadata": {},
   "outputs": [],
   "source": [
    "def delete_illogics(table=df11):\n",
    "    df=table.copy()\n",
    "    df.drop(df[df['fat_100g']+\n",
    "               df['carbohydrates_100g']+\n",
    "               df['proteins_100g']+\n",
    "               df['fiber_100g']+\n",
    "               df['salt_100g']\n",
    "            > 100].index, \n",
    "            inplace=True\n",
    "           )\n",
    "    df.drop(df[df['saturated-fat_100g']+\n",
    "                df['monounsaturated-fat_100g']+\n",
    "                df['polyunsaturated-fat_100g']+\n",
    "                df['cholesterol_100g']\n",
    "                > df['fat_100g']].index,\n",
    "                inplace=True\n",
    "               )\n",
    "    df.drop(df[df['sugars_100g'] > df['carbohydrates_100g']].index, inplace=True)\n",
    "    return df"
   ]
  },
  {
   "cell_type": "code",
   "execution_count": 63,
   "metadata": {},
   "outputs": [],
   "source": [
    "df12 = delete_illogics()"
   ]
  },
  {
   "cell_type": "code",
   "execution_count": 64,
   "metadata": {},
   "outputs": [
    {
     "data": {
      "text/plain": [
       "(232068, 39)"
      ]
     },
     "execution_count": 64,
     "metadata": {},
     "output_type": "execute_result"
    }
   ],
   "source": [
    "df12.shape"
   ]
  },
  {
   "cell_type": "code",
   "execution_count": 65,
   "metadata": {},
   "outputs": [
    {
     "data": {
      "text/plain": [
       "(256843, 39)"
      ]
     },
     "execution_count": 65,
     "metadata": {},
     "output_type": "execute_result"
    }
   ],
   "source": [
    "df11.shape"
   ]
  },
  {
   "attachments": {},
   "cell_type": "markdown",
   "metadata": {},
   "source": [
    "Vérif => ok"
   ]
  },
  {
   "cell_type": "code",
   "execution_count": 66,
   "metadata": {},
   "outputs": [
    {
     "data": {
      "text/plain": [
       "0\n",
       "energy_100g                 214187\n",
       "fat_100g                         0\n",
       "saturated-fat_100g               0\n",
       "monounsaturated-fat_100g         0\n",
       "polyunsaturated-fat_100g         0\n",
       "cholesterol_100g                 0\n",
       "carbohydrates_100g               0\n",
       "sugars_100g                      0\n",
       "fiber_100g                       0\n",
       "proteins_100g                    0\n",
       "salt_100g                        0\n",
       "vitamin-a_100g                   0\n",
       "vitamin-c_100g                   0\n",
       "calcium_100g                     0\n",
       "iron_100g                        0\n",
       "dtype: int64"
      ]
     },
     "execution_count": 66,
     "metadata": {},
     "output_type": "execute_result"
    }
   ],
   "source": [
    "val_sup(table=df12, val=100, debut=22, fin=-2)"
   ]
  },
  {
   "cell_type": "code",
   "execution_count": 67,
   "metadata": {},
   "outputs": [
    {
     "data": {
      "text/html": [
       "<div>\n",
       "<style scoped>\n",
       "    .dataframe tbody tr th:only-of-type {\n",
       "        vertical-align: middle;\n",
       "    }\n",
       "\n",
       "    .dataframe tbody tr th {\n",
       "        vertical-align: top;\n",
       "    }\n",
       "\n",
       "    .dataframe thead th {\n",
       "        text-align: right;\n",
       "    }\n",
       "</style>\n",
       "<table border=\"1\" class=\"dataframe\">\n",
       "  <thead>\n",
       "    <tr style=\"text-align: right;\">\n",
       "      <th></th>\n",
       "      <th>count</th>\n",
       "      <th>mean</th>\n",
       "      <th>std</th>\n",
       "      <th>min</th>\n",
       "      <th>25%</th>\n",
       "      <th>50%</th>\n",
       "      <th>75%</th>\n",
       "      <th>max</th>\n",
       "    </tr>\n",
       "    <tr>\n",
       "      <th>0</th>\n",
       "      <th></th>\n",
       "      <th></th>\n",
       "      <th></th>\n",
       "      <th></th>\n",
       "      <th></th>\n",
       "      <th></th>\n",
       "      <th></th>\n",
       "      <th></th>\n",
       "    </tr>\n",
       "  </thead>\n",
       "  <tbody>\n",
       "    <tr>\n",
       "      <th>additives_n</th>\n",
       "      <td>206418.0</td>\n",
       "      <td>2.088282</td>\n",
       "      <td>2.567496</td>\n",
       "      <td>0.0</td>\n",
       "      <td>0.000000</td>\n",
       "      <td>1.000000</td>\n",
       "      <td>3.000000</td>\n",
       "      <td>31.000000</td>\n",
       "    </tr>\n",
       "    <tr>\n",
       "      <th>Nb_NaN</th>\n",
       "      <td>232068.0</td>\n",
       "      <td>6.028651</td>\n",
       "      <td>3.261565</td>\n",
       "      <td>1.0</td>\n",
       "      <td>3.000000</td>\n",
       "      <td>6.000000</td>\n",
       "      <td>9.000000</td>\n",
       "      <td>12.000000</td>\n",
       "    </tr>\n",
       "    <tr>\n",
       "      <th>energy_100g</th>\n",
       "      <td>231684.0</td>\n",
       "      <td>1033.919434</td>\n",
       "      <td>759.209106</td>\n",
       "      <td>0.0</td>\n",
       "      <td>335.000000</td>\n",
       "      <td>992.000000</td>\n",
       "      <td>1569.000000</td>\n",
       "      <td>4000.000000</td>\n",
       "    </tr>\n",
       "    <tr>\n",
       "      <th>fat_100g</th>\n",
       "      <td>214563.0</td>\n",
       "      <td>11.012027</td>\n",
       "      <td>16.292376</td>\n",
       "      <td>0.0</td>\n",
       "      <td>0.000000</td>\n",
       "      <td>3.570000</td>\n",
       "      <td>16.809999</td>\n",
       "      <td>100.000000</td>\n",
       "    </tr>\n",
       "    <tr>\n",
       "      <th>saturated-fat_100g</th>\n",
       "      <td>205168.0</td>\n",
       "      <td>4.794635</td>\n",
       "      <td>7.677039</td>\n",
       "      <td>0.0</td>\n",
       "      <td>0.000000</td>\n",
       "      <td>1.500000</td>\n",
       "      <td>6.820000</td>\n",
       "      <td>100.000000</td>\n",
       "    </tr>\n",
       "    <tr>\n",
       "      <th>monounsaturated-fat_100g</th>\n",
       "      <td>15689.0</td>\n",
       "      <td>9.608193</td>\n",
       "      <td>17.735282</td>\n",
       "      <td>0.0</td>\n",
       "      <td>0.000000</td>\n",
       "      <td>2.500000</td>\n",
       "      <td>8.930000</td>\n",
       "      <td>85.709999</td>\n",
       "    </tr>\n",
       "    <tr>\n",
       "      <th>polyunsaturated-fat_100g</th>\n",
       "      <td>15715.0</td>\n",
       "      <td>5.118614</td>\n",
       "      <td>10.439366</td>\n",
       "      <td>0.0</td>\n",
       "      <td>0.000000</td>\n",
       "      <td>1.470000</td>\n",
       "      <td>5.000000</td>\n",
       "      <td>98.000000</td>\n",
       "    </tr>\n",
       "    <tr>\n",
       "      <th>cholesterol_100g</th>\n",
       "      <td>120972.0</td>\n",
       "      <td>0.022151</td>\n",
       "      <td>0.346832</td>\n",
       "      <td>0.0</td>\n",
       "      <td>0.000000</td>\n",
       "      <td>0.000000</td>\n",
       "      <td>0.028000</td>\n",
       "      <td>95.237999</td>\n",
       "    </tr>\n",
       "    <tr>\n",
       "      <th>carbohydrates_100g</th>\n",
       "      <td>214513.0</td>\n",
       "      <td>29.899991</td>\n",
       "      <td>28.753184</td>\n",
       "      <td>0.0</td>\n",
       "      <td>5.070000</td>\n",
       "      <td>17.000000</td>\n",
       "      <td>55.000000</td>\n",
       "      <td>100.000000</td>\n",
       "    </tr>\n",
       "    <tr>\n",
       "      <th>sugars_100g</th>\n",
       "      <td>232068.0</td>\n",
       "      <td>14.721461</td>\n",
       "      <td>20.748930</td>\n",
       "      <td>0.0</td>\n",
       "      <td>0.780000</td>\n",
       "      <td>4.700000</td>\n",
       "      <td>20.930000</td>\n",
       "      <td>100.000000</td>\n",
       "    </tr>\n",
       "    <tr>\n",
       "      <th>fiber_100g</th>\n",
       "      <td>232068.0</td>\n",
       "      <td>1.633268</td>\n",
       "      <td>3.119173</td>\n",
       "      <td>0.0</td>\n",
       "      <td>0.000000</td>\n",
       "      <td>0.000000</td>\n",
       "      <td>2.400000</td>\n",
       "      <td>100.000000</td>\n",
       "    </tr>\n",
       "    <tr>\n",
       "      <th>proteins_100g</th>\n",
       "      <td>232068.0</td>\n",
       "      <td>6.558260</td>\n",
       "      <td>7.851636</td>\n",
       "      <td>0.0</td>\n",
       "      <td>0.420000</td>\n",
       "      <td>4.000000</td>\n",
       "      <td>9.330000</td>\n",
       "      <td>100.000000</td>\n",
       "    </tr>\n",
       "    <tr>\n",
       "      <th>salt_100g</th>\n",
       "      <td>232068.0</td>\n",
       "      <td>1.608926</td>\n",
       "      <td>6.573712</td>\n",
       "      <td>0.0</td>\n",
       "      <td>0.050000</td>\n",
       "      <td>0.543560</td>\n",
       "      <td>1.361440</td>\n",
       "      <td>100.000000</td>\n",
       "    </tr>\n",
       "    <tr>\n",
       "      <th>vitamin-a_100g</th>\n",
       "      <td>232068.0</td>\n",
       "      <td>0.000221</td>\n",
       "      <td>0.056416</td>\n",
       "      <td>0.0</td>\n",
       "      <td>0.000000</td>\n",
       "      <td>0.000000</td>\n",
       "      <td>0.000000</td>\n",
       "      <td>26.700001</td>\n",
       "    </tr>\n",
       "    <tr>\n",
       "      <th>vitamin-c_100g</th>\n",
       "      <td>232068.0</td>\n",
       "      <td>0.006728</td>\n",
       "      <td>0.213555</td>\n",
       "      <td>0.0</td>\n",
       "      <td>0.000000</td>\n",
       "      <td>0.000000</td>\n",
       "      <td>0.000000</td>\n",
       "      <td>50.000000</td>\n",
       "    </tr>\n",
       "    <tr>\n",
       "      <th>calcium_100g</th>\n",
       "      <td>232068.0</td>\n",
       "      <td>0.052730</td>\n",
       "      <td>0.452793</td>\n",
       "      <td>0.0</td>\n",
       "      <td>0.000000</td>\n",
       "      <td>0.000000</td>\n",
       "      <td>0.035000</td>\n",
       "      <td>99.005997</td>\n",
       "    </tr>\n",
       "    <tr>\n",
       "      <th>iron_100g</th>\n",
       "      <td>232068.0</td>\n",
       "      <td>0.001506</td>\n",
       "      <td>0.149200</td>\n",
       "      <td>0.0</td>\n",
       "      <td>0.000000</td>\n",
       "      <td>0.000000</td>\n",
       "      <td>0.000800</td>\n",
       "      <td>50.000000</td>\n",
       "    </tr>\n",
       "    <tr>\n",
       "      <th>carbon-footprint_100g</th>\n",
       "      <td>218.0</td>\n",
       "      <td>340.270233</td>\n",
       "      <td>442.421631</td>\n",
       "      <td>0.0</td>\n",
       "      <td>70.850006</td>\n",
       "      <td>194.199997</td>\n",
       "      <td>370.000000</td>\n",
       "      <td>2842.000000</td>\n",
       "    </tr>\n",
       "    <tr>\n",
       "      <th>nutrition-score-fr_100g</th>\n",
       "      <td>197523.0</td>\n",
       "      <td>8.764311</td>\n",
       "      <td>9.057735</td>\n",
       "      <td>-15.0</td>\n",
       "      <td>1.000000</td>\n",
       "      <td>9.000000</td>\n",
       "      <td>16.000000</td>\n",
       "      <td>40.000000</td>\n",
       "    </tr>\n",
       "  </tbody>\n",
       "</table>\n",
       "</div>"
      ],
      "text/plain": [
       "                             count         mean         std   min         25%  \\\n",
       "0                                                                               \n",
       "additives_n               206418.0     2.088282    2.567496   0.0    0.000000   \n",
       "Nb_NaN                    232068.0     6.028651    3.261565   1.0    3.000000   \n",
       "energy_100g               231684.0  1033.919434  759.209106   0.0  335.000000   \n",
       "fat_100g                  214563.0    11.012027   16.292376   0.0    0.000000   \n",
       "saturated-fat_100g        205168.0     4.794635    7.677039   0.0    0.000000   \n",
       "monounsaturated-fat_100g   15689.0     9.608193   17.735282   0.0    0.000000   \n",
       "polyunsaturated-fat_100g   15715.0     5.118614   10.439366   0.0    0.000000   \n",
       "cholesterol_100g          120972.0     0.022151    0.346832   0.0    0.000000   \n",
       "carbohydrates_100g        214513.0    29.899991   28.753184   0.0    5.070000   \n",
       "sugars_100g               232068.0    14.721461   20.748930   0.0    0.780000   \n",
       "fiber_100g                232068.0     1.633268    3.119173   0.0    0.000000   \n",
       "proteins_100g             232068.0     6.558260    7.851636   0.0    0.420000   \n",
       "salt_100g                 232068.0     1.608926    6.573712   0.0    0.050000   \n",
       "vitamin-a_100g            232068.0     0.000221    0.056416   0.0    0.000000   \n",
       "vitamin-c_100g            232068.0     0.006728    0.213555   0.0    0.000000   \n",
       "calcium_100g              232068.0     0.052730    0.452793   0.0    0.000000   \n",
       "iron_100g                 232068.0     0.001506    0.149200   0.0    0.000000   \n",
       "carbon-footprint_100g        218.0   340.270233  442.421631   0.0   70.850006   \n",
       "nutrition-score-fr_100g   197523.0     8.764311    9.057735 -15.0    1.000000   \n",
       "\n",
       "                                 50%          75%          max  \n",
       "0                                                               \n",
       "additives_n                 1.000000     3.000000    31.000000  \n",
       "Nb_NaN                      6.000000     9.000000    12.000000  \n",
       "energy_100g               992.000000  1569.000000  4000.000000  \n",
       "fat_100g                    3.570000    16.809999   100.000000  \n",
       "saturated-fat_100g          1.500000     6.820000   100.000000  \n",
       "monounsaturated-fat_100g    2.500000     8.930000    85.709999  \n",
       "polyunsaturated-fat_100g    1.470000     5.000000    98.000000  \n",
       "cholesterol_100g            0.000000     0.028000    95.237999  \n",
       "carbohydrates_100g         17.000000    55.000000   100.000000  \n",
       "sugars_100g                 4.700000    20.930000   100.000000  \n",
       "fiber_100g                  0.000000     2.400000   100.000000  \n",
       "proteins_100g               4.000000     9.330000   100.000000  \n",
       "salt_100g                   0.543560     1.361440   100.000000  \n",
       "vitamin-a_100g              0.000000     0.000000    26.700001  \n",
       "vitamin-c_100g              0.000000     0.000000    50.000000  \n",
       "calcium_100g                0.000000     0.035000    99.005997  \n",
       "iron_100g                   0.000000     0.000800    50.000000  \n",
       "carbon-footprint_100g     194.199997   370.000000  2842.000000  \n",
       "nutrition-score-fr_100g     9.000000    16.000000    40.000000  "
      ]
     },
     "execution_count": 67,
     "metadata": {},
     "output_type": "execute_result"
    }
   ],
   "source": [
    "describ(df12)"
   ]
  },
  {
   "attachments": {},
   "cell_type": "markdown",
   "metadata": {},
   "source": [
    "Nb : trop de données manquantes pour mono, polyunsat_100g, cholest et carbon-foot_100g.\n",
    "La col Nb_Nan n'est plus utile : supprimée.\n",
    "Ces colonnes sont supprimées."
   ]
  },
  {
   "cell_type": "code",
   "execution_count": 68,
   "metadata": {},
   "outputs": [],
   "source": [
    "l3 = ['Nb_NaN', 'saturated-fat_100g', 'monounsaturated-fat_100g', 'polyunsaturated-fat_100g', 'carbon-footprint_100g', 'cholesterol_100g']"
   ]
  },
  {
   "cell_type": "code",
   "execution_count": 69,
   "metadata": {},
   "outputs": [],
   "source": [
    "df13 = df12.drop(columns=l3)"
   ]
  },
  {
   "cell_type": "code",
   "execution_count": 70,
   "metadata": {},
   "outputs": [
    {
     "data": {
      "text/html": [
       "<div>\n",
       "<style scoped>\n",
       "    .dataframe tbody tr th:only-of-type {\n",
       "        vertical-align: middle;\n",
       "    }\n",
       "\n",
       "    .dataframe tbody tr th {\n",
       "        vertical-align: top;\n",
       "    }\n",
       "\n",
       "    .dataframe thead th {\n",
       "        text-align: right;\n",
       "    }\n",
       "</style>\n",
       "<table border=\"1\" class=\"dataframe\">\n",
       "  <thead>\n",
       "    <tr style=\"text-align: right;\">\n",
       "      <th></th>\n",
       "      <th>count</th>\n",
       "      <th>mean</th>\n",
       "      <th>std</th>\n",
       "      <th>min</th>\n",
       "      <th>25%</th>\n",
       "      <th>50%</th>\n",
       "      <th>75%</th>\n",
       "      <th>max</th>\n",
       "    </tr>\n",
       "    <tr>\n",
       "      <th>0</th>\n",
       "      <th></th>\n",
       "      <th></th>\n",
       "      <th></th>\n",
       "      <th></th>\n",
       "      <th></th>\n",
       "      <th></th>\n",
       "      <th></th>\n",
       "      <th></th>\n",
       "    </tr>\n",
       "  </thead>\n",
       "  <tbody>\n",
       "    <tr>\n",
       "      <th>additives_n</th>\n",
       "      <td>206418.0</td>\n",
       "      <td>2.088282</td>\n",
       "      <td>2.567496</td>\n",
       "      <td>0.0</td>\n",
       "      <td>0.00</td>\n",
       "      <td>1.00000</td>\n",
       "      <td>3.000000</td>\n",
       "      <td>31.000000</td>\n",
       "    </tr>\n",
       "    <tr>\n",
       "      <th>energy_100g</th>\n",
       "      <td>231684.0</td>\n",
       "      <td>1033.919434</td>\n",
       "      <td>759.209106</td>\n",
       "      <td>0.0</td>\n",
       "      <td>335.00</td>\n",
       "      <td>992.00000</td>\n",
       "      <td>1569.000000</td>\n",
       "      <td>4000.000000</td>\n",
       "    </tr>\n",
       "    <tr>\n",
       "      <th>fat_100g</th>\n",
       "      <td>214563.0</td>\n",
       "      <td>11.012027</td>\n",
       "      <td>16.292376</td>\n",
       "      <td>0.0</td>\n",
       "      <td>0.00</td>\n",
       "      <td>3.57000</td>\n",
       "      <td>16.809999</td>\n",
       "      <td>100.000000</td>\n",
       "    </tr>\n",
       "    <tr>\n",
       "      <th>carbohydrates_100g</th>\n",
       "      <td>214513.0</td>\n",
       "      <td>29.899991</td>\n",
       "      <td>28.753184</td>\n",
       "      <td>0.0</td>\n",
       "      <td>5.07</td>\n",
       "      <td>17.00000</td>\n",
       "      <td>55.000000</td>\n",
       "      <td>100.000000</td>\n",
       "    </tr>\n",
       "    <tr>\n",
       "      <th>sugars_100g</th>\n",
       "      <td>232068.0</td>\n",
       "      <td>14.721461</td>\n",
       "      <td>20.748930</td>\n",
       "      <td>0.0</td>\n",
       "      <td>0.78</td>\n",
       "      <td>4.70000</td>\n",
       "      <td>20.930000</td>\n",
       "      <td>100.000000</td>\n",
       "    </tr>\n",
       "    <tr>\n",
       "      <th>fiber_100g</th>\n",
       "      <td>232068.0</td>\n",
       "      <td>1.633268</td>\n",
       "      <td>3.119173</td>\n",
       "      <td>0.0</td>\n",
       "      <td>0.00</td>\n",
       "      <td>0.00000</td>\n",
       "      <td>2.400000</td>\n",
       "      <td>100.000000</td>\n",
       "    </tr>\n",
       "    <tr>\n",
       "      <th>proteins_100g</th>\n",
       "      <td>232068.0</td>\n",
       "      <td>6.558260</td>\n",
       "      <td>7.851636</td>\n",
       "      <td>0.0</td>\n",
       "      <td>0.42</td>\n",
       "      <td>4.00000</td>\n",
       "      <td>9.330000</td>\n",
       "      <td>100.000000</td>\n",
       "    </tr>\n",
       "    <tr>\n",
       "      <th>salt_100g</th>\n",
       "      <td>232068.0</td>\n",
       "      <td>1.608926</td>\n",
       "      <td>6.573712</td>\n",
       "      <td>0.0</td>\n",
       "      <td>0.05</td>\n",
       "      <td>0.54356</td>\n",
       "      <td>1.361440</td>\n",
       "      <td>100.000000</td>\n",
       "    </tr>\n",
       "    <tr>\n",
       "      <th>vitamin-a_100g</th>\n",
       "      <td>232068.0</td>\n",
       "      <td>0.000221</td>\n",
       "      <td>0.056416</td>\n",
       "      <td>0.0</td>\n",
       "      <td>0.00</td>\n",
       "      <td>0.00000</td>\n",
       "      <td>0.000000</td>\n",
       "      <td>26.700001</td>\n",
       "    </tr>\n",
       "    <tr>\n",
       "      <th>vitamin-c_100g</th>\n",
       "      <td>232068.0</td>\n",
       "      <td>0.006728</td>\n",
       "      <td>0.213555</td>\n",
       "      <td>0.0</td>\n",
       "      <td>0.00</td>\n",
       "      <td>0.00000</td>\n",
       "      <td>0.000000</td>\n",
       "      <td>50.000000</td>\n",
       "    </tr>\n",
       "    <tr>\n",
       "      <th>calcium_100g</th>\n",
       "      <td>232068.0</td>\n",
       "      <td>0.052730</td>\n",
       "      <td>0.452793</td>\n",
       "      <td>0.0</td>\n",
       "      <td>0.00</td>\n",
       "      <td>0.00000</td>\n",
       "      <td>0.035000</td>\n",
       "      <td>99.005997</td>\n",
       "    </tr>\n",
       "    <tr>\n",
       "      <th>iron_100g</th>\n",
       "      <td>232068.0</td>\n",
       "      <td>0.001506</td>\n",
       "      <td>0.149200</td>\n",
       "      <td>0.0</td>\n",
       "      <td>0.00</td>\n",
       "      <td>0.00000</td>\n",
       "      <td>0.000800</td>\n",
       "      <td>50.000000</td>\n",
       "    </tr>\n",
       "    <tr>\n",
       "      <th>nutrition-score-fr_100g</th>\n",
       "      <td>197523.0</td>\n",
       "      <td>8.764311</td>\n",
       "      <td>9.057735</td>\n",
       "      <td>-15.0</td>\n",
       "      <td>1.00</td>\n",
       "      <td>9.00000</td>\n",
       "      <td>16.000000</td>\n",
       "      <td>40.000000</td>\n",
       "    </tr>\n",
       "  </tbody>\n",
       "</table>\n",
       "</div>"
      ],
      "text/plain": [
       "                            count         mean         std   min     25%  \\\n",
       "0                                                                          \n",
       "additives_n              206418.0     2.088282    2.567496   0.0    0.00   \n",
       "energy_100g              231684.0  1033.919434  759.209106   0.0  335.00   \n",
       "fat_100g                 214563.0    11.012027   16.292376   0.0    0.00   \n",
       "carbohydrates_100g       214513.0    29.899991   28.753184   0.0    5.07   \n",
       "sugars_100g              232068.0    14.721461   20.748930   0.0    0.78   \n",
       "fiber_100g               232068.0     1.633268    3.119173   0.0    0.00   \n",
       "proteins_100g            232068.0     6.558260    7.851636   0.0    0.42   \n",
       "salt_100g                232068.0     1.608926    6.573712   0.0    0.05   \n",
       "vitamin-a_100g           232068.0     0.000221    0.056416   0.0    0.00   \n",
       "vitamin-c_100g           232068.0     0.006728    0.213555   0.0    0.00   \n",
       "calcium_100g             232068.0     0.052730    0.452793   0.0    0.00   \n",
       "iron_100g                232068.0     0.001506    0.149200   0.0    0.00   \n",
       "nutrition-score-fr_100g  197523.0     8.764311    9.057735 -15.0    1.00   \n",
       "\n",
       "                               50%          75%          max  \n",
       "0                                                             \n",
       "additives_n                1.00000     3.000000    31.000000  \n",
       "energy_100g              992.00000  1569.000000  4000.000000  \n",
       "fat_100g                   3.57000    16.809999   100.000000  \n",
       "carbohydrates_100g        17.00000    55.000000   100.000000  \n",
       "sugars_100g                4.70000    20.930000   100.000000  \n",
       "fiber_100g                 0.00000     2.400000   100.000000  \n",
       "proteins_100g              4.00000     9.330000   100.000000  \n",
       "salt_100g                  0.54356     1.361440   100.000000  \n",
       "vitamin-a_100g             0.00000     0.000000    26.700001  \n",
       "vitamin-c_100g             0.00000     0.000000    50.000000  \n",
       "calcium_100g               0.00000     0.035000    99.005997  \n",
       "iron_100g                  0.00000     0.000800    50.000000  \n",
       "nutrition-score-fr_100g    9.00000    16.000000    40.000000  "
      ]
     },
     "execution_count": 70,
     "metadata": {},
     "output_type": "execute_result"
    }
   ],
   "source": [
    "describ(df13) #ok col supprimées."
   ]
  },
  {
   "attachments": {},
   "cell_type": "markdown",
   "metadata": {},
   "source": [
    "# IV. Imputation"
   ]
  },
  {
   "attachments": {},
   "cell_type": "markdown",
   "metadata": {},
   "source": [
    "IV.1 STEP 1 : fillna col 'additives_n'"
   ]
  },
  {
   "cell_type": "code",
   "execution_count": 71,
   "metadata": {},
   "outputs": [],
   "source": [
    "df14 = df13.copy()\n",
    "df14['additives_n'] = df13['additives_n'].fillna(0)"
   ]
  },
  {
   "cell_type": "code",
   "execution_count": 72,
   "metadata": {},
   "outputs": [
    {
     "data": {
      "text/html": [
       "<div>\n",
       "<style scoped>\n",
       "    .dataframe tbody tr th:only-of-type {\n",
       "        vertical-align: middle;\n",
       "    }\n",
       "\n",
       "    .dataframe tbody tr th {\n",
       "        vertical-align: top;\n",
       "    }\n",
       "\n",
       "    .dataframe thead th {\n",
       "        text-align: right;\n",
       "    }\n",
       "</style>\n",
       "<table border=\"1\" class=\"dataframe\">\n",
       "  <thead>\n",
       "    <tr style=\"text-align: right;\">\n",
       "      <th></th>\n",
       "      <th>count</th>\n",
       "      <th>mean</th>\n",
       "      <th>std</th>\n",
       "      <th>min</th>\n",
       "      <th>25%</th>\n",
       "      <th>50%</th>\n",
       "      <th>75%</th>\n",
       "      <th>max</th>\n",
       "    </tr>\n",
       "    <tr>\n",
       "      <th>0</th>\n",
       "      <th></th>\n",
       "      <th></th>\n",
       "      <th></th>\n",
       "      <th></th>\n",
       "      <th></th>\n",
       "      <th></th>\n",
       "      <th></th>\n",
       "      <th></th>\n",
       "    </tr>\n",
       "  </thead>\n",
       "  <tbody>\n",
       "    <tr>\n",
       "      <th>additives_n</th>\n",
       "      <td>232068.0</td>\n",
       "      <td>1.857469</td>\n",
       "      <td>2.508418</td>\n",
       "      <td>0.0</td>\n",
       "      <td>0.0</td>\n",
       "      <td>1.0</td>\n",
       "      <td>3.0</td>\n",
       "      <td>31.0</td>\n",
       "    </tr>\n",
       "    <tr>\n",
       "      <th>energy_100g</th>\n",
       "      <td>231684.0</td>\n",
       "      <td>1033.919434</td>\n",
       "      <td>759.209106</td>\n",
       "      <td>0.0</td>\n",
       "      <td>335.0</td>\n",
       "      <td>992.0</td>\n",
       "      <td>1569.0</td>\n",
       "      <td>4000.0</td>\n",
       "    </tr>\n",
       "  </tbody>\n",
       "</table>\n",
       "</div>"
      ],
      "text/plain": [
       "                count         mean         std  min    25%    50%     75%  \\\n",
       "0                                                                           \n",
       "additives_n  232068.0     1.857469    2.508418  0.0    0.0    1.0     3.0   \n",
       "energy_100g  231684.0  1033.919434  759.209106  0.0  335.0  992.0  1569.0   \n",
       "\n",
       "                max  \n",
       "0                    \n",
       "additives_n    31.0  \n",
       "energy_100g  4000.0  "
      ]
     },
     "execution_count": 72,
     "metadata": {},
     "output_type": "execute_result"
    }
   ],
   "source": [
    "describ(df14).head(2)"
   ]
  },
  {
   "cell_type": "code",
   "execution_count": 73,
   "metadata": {},
   "outputs": [
    {
     "data": {
      "text/plain": [
       "<AxesSubplot:>"
      ]
     },
     "execution_count": 73,
     "metadata": {},
     "output_type": "execute_result"
    },
    {
     "data": {
      "image/png": "[encoded data removed]",
      "text/plain": [
       "<Figure size 1800x720 with 2 Axes>"
      ]
     },
     "metadata": {
      "needs_background": "light"
     },
     "output_type": "display_data"
    }
   ],
   "source": [
    "missing(df14, 'df14')"
   ]
  },
  {
   "cell_type": "code",
   "execution_count": 74,
   "metadata": {},
   "outputs": [
    {
     "data": {
      "text/plain": [
       "0\n",
       "energy_100g                  384\n",
       "fat_100g                   17505\n",
       "carbohydrates_100g         17555\n",
       "sugars_100g                    0\n",
       "fiber_100g                     0\n",
       "proteins_100g                  0\n",
       "salt_100g                      0\n",
       "vitamin-a_100g                 0\n",
       "vitamin-c_100g                 0\n",
       "calcium_100g                   0\n",
       "iron_100g                      0\n",
       "nutrition-score-fr_100g    34545\n",
       "dtype: int64"
      ]
     },
     "execution_count": 74,
     "metadata": {},
     "output_type": "execute_result"
    }
   ],
   "source": [
    "df14.iloc[:, 21:].isna().sum()"
   ]
  },
  {
   "attachments": {},
   "cell_type": "markdown",
   "metadata": {},
   "source": [
    "Utiliser la méthode des KNN pour remplir les NaN dans les colonnes : <br> \n",
    "- energy_100g et nutrition_score,\n",
    "- saturated-fat et carbohydrates_100g."
   ]
  },
  {
   "cell_type": "code",
   "execution_count": 75,
   "metadata": {},
   "outputs": [],
   "source": [
    "l4 = list(df14.columns)[0:21]"
   ]
  },
  {
   "attachments": {},
   "cell_type": "markdown",
   "metadata": {},
   "source": [
    "On garde que les col de données numériques sans les col trop vides."
   ]
  },
  {
   "cell_type": "code",
   "execution_count": 76,
   "metadata": {},
   "outputs": [],
   "source": [
    "df15 = df14.drop(columns=l4)"
   ]
  },
  {
   "cell_type": "code",
   "execution_count": 77,
   "metadata": {},
   "outputs": [
    {
     "data": {
      "text/html": [
       "<div>\n",
       "<style scoped>\n",
       "    .dataframe tbody tr th:only-of-type {\n",
       "        vertical-align: middle;\n",
       "    }\n",
       "\n",
       "    .dataframe tbody tr th {\n",
       "        vertical-align: top;\n",
       "    }\n",
       "\n",
       "    .dataframe thead th {\n",
       "        text-align: right;\n",
       "    }\n",
       "</style>\n",
       "<table border=\"1\" class=\"dataframe\">\n",
       "  <thead>\n",
       "    <tr style=\"text-align: right;\">\n",
       "      <th></th>\n",
       "      <th>energy_100g</th>\n",
       "      <th>fat_100g</th>\n",
       "      <th>carbohydrates_100g</th>\n",
       "      <th>sugars_100g</th>\n",
       "      <th>fiber_100g</th>\n",
       "      <th>proteins_100g</th>\n",
       "      <th>salt_100g</th>\n",
       "      <th>vitamin-a_100g</th>\n",
       "      <th>vitamin-c_100g</th>\n",
       "      <th>calcium_100g</th>\n",
       "      <th>iron_100g</th>\n",
       "      <th>nutrition-score-fr_100g</th>\n",
       "    </tr>\n",
       "  </thead>\n",
       "  <tbody>\n",
       "    <tr>\n",
       "      <th>5</th>\n",
       "      <td>1552.0</td>\n",
       "      <td>1.43</td>\n",
       "      <td>77.139999</td>\n",
       "      <td>0.0</td>\n",
       "      <td>5.7</td>\n",
       "      <td>8.57</td>\n",
       "      <td>0.0</td>\n",
       "      <td>0.0</td>\n",
       "      <td>0.0000</td>\n",
       "      <td>0.000</td>\n",
       "      <td>0.0000</td>\n",
       "      <td>NaN</td>\n",
       "    </tr>\n",
       "    <tr>\n",
       "      <th>7</th>\n",
       "      <td>1490.0</td>\n",
       "      <td>NaN</td>\n",
       "      <td>80.000000</td>\n",
       "      <td>0.0</td>\n",
       "      <td>0.0</td>\n",
       "      <td>8.89</td>\n",
       "      <td>0.0</td>\n",
       "      <td>0.0</td>\n",
       "      <td>0.0027</td>\n",
       "      <td>0.044</td>\n",
       "      <td>0.0000</td>\n",
       "      <td>NaN</td>\n",
       "    </tr>\n",
       "    <tr>\n",
       "      <th>11</th>\n",
       "      <td>1393.0</td>\n",
       "      <td>1.04</td>\n",
       "      <td>62.500000</td>\n",
       "      <td>0.0</td>\n",
       "      <td>12.5</td>\n",
       "      <td>22.92</td>\n",
       "      <td>0.0</td>\n",
       "      <td>0.0</td>\n",
       "      <td>0.0000</td>\n",
       "      <td>0.062</td>\n",
       "      <td>0.0045</td>\n",
       "      <td>NaN</td>\n",
       "    </tr>\n",
       "  </tbody>\n",
       "</table>\n",
       "</div>"
      ],
      "text/plain": [
       "0   energy_100g  fat_100g  carbohydrates_100g  sugars_100g  fiber_100g  \\\n",
       "5        1552.0      1.43           77.139999          0.0         5.7   \n",
       "7        1490.0       NaN           80.000000          0.0         0.0   \n",
       "11       1393.0      1.04           62.500000          0.0        12.5   \n",
       "\n",
       "0   proteins_100g  salt_100g  vitamin-a_100g  vitamin-c_100g  calcium_100g  \\\n",
       "5            8.57        0.0             0.0          0.0000         0.000   \n",
       "7            8.89        0.0             0.0          0.0027         0.044   \n",
       "11          22.92        0.0             0.0          0.0000         0.062   \n",
       "\n",
       "0   iron_100g  nutrition-score-fr_100g  \n",
       "5      0.0000                      NaN  \n",
       "7      0.0000                      NaN  \n",
       "11     0.0045                      NaN  "
      ]
     },
     "execution_count": 77,
     "metadata": {},
     "output_type": "execute_result"
    }
   ],
   "source": [
    "df15.head(3)"
   ]
  },
  {
   "attachments": {},
   "cell_type": "markdown",
   "metadata": {},
   "source": [
    "Préparer le tableau en minmaxscaler."
   ]
  },
  {
   "cell_type": "code",
   "execution_count": 78,
   "metadata": {},
   "outputs": [
    {
     "data": {
      "text/html": [
       "<div>\n",
       "<style scoped>\n",
       "    .dataframe tbody tr th:only-of-type {\n",
       "        vertical-align: middle;\n",
       "    }\n",
       "\n",
       "    .dataframe tbody tr th {\n",
       "        vertical-align: top;\n",
       "    }\n",
       "\n",
       "    .dataframe thead th {\n",
       "        text-align: right;\n",
       "    }\n",
       "</style>\n",
       "<table border=\"1\" class=\"dataframe\">\n",
       "  <thead>\n",
       "    <tr style=\"text-align: right;\">\n",
       "      <th></th>\n",
       "      <th>energy_100g</th>\n",
       "      <th>fat_100g</th>\n",
       "      <th>carbohydrates_100g</th>\n",
       "      <th>sugars_100g</th>\n",
       "      <th>fiber_100g</th>\n",
       "      <th>proteins_100g</th>\n",
       "      <th>salt_100g</th>\n",
       "      <th>vitamin-a_100g</th>\n",
       "      <th>vitamin-c_100g</th>\n",
       "      <th>calcium_100g</th>\n",
       "      <th>iron_100g</th>\n",
       "      <th>nutrition-score-fr_100g</th>\n",
       "    </tr>\n",
       "  </thead>\n",
       "  <tbody>\n",
       "    <tr>\n",
       "      <th>5</th>\n",
       "      <td>0.38800</td>\n",
       "      <td>0.0143</td>\n",
       "      <td>0.7714</td>\n",
       "      <td>0.0</td>\n",
       "      <td>0.057</td>\n",
       "      <td>0.0857</td>\n",
       "      <td>0.0</td>\n",
       "      <td>0.0</td>\n",
       "      <td>0.000000</td>\n",
       "      <td>0.000000</td>\n",
       "      <td>0.00000</td>\n",
       "      <td>NaN</td>\n",
       "    </tr>\n",
       "    <tr>\n",
       "      <th>7</th>\n",
       "      <td>0.37250</td>\n",
       "      <td>NaN</td>\n",
       "      <td>0.8000</td>\n",
       "      <td>0.0</td>\n",
       "      <td>0.000</td>\n",
       "      <td>0.0889</td>\n",
       "      <td>0.0</td>\n",
       "      <td>0.0</td>\n",
       "      <td>0.000054</td>\n",
       "      <td>0.000444</td>\n",
       "      <td>0.00000</td>\n",
       "      <td>NaN</td>\n",
       "    </tr>\n",
       "    <tr>\n",
       "      <th>11</th>\n",
       "      <td>0.34825</td>\n",
       "      <td>0.0104</td>\n",
       "      <td>0.6250</td>\n",
       "      <td>0.0</td>\n",
       "      <td>0.125</td>\n",
       "      <td>0.2292</td>\n",
       "      <td>0.0</td>\n",
       "      <td>0.0</td>\n",
       "      <td>0.000000</td>\n",
       "      <td>0.000626</td>\n",
       "      <td>0.00009</td>\n",
       "      <td>NaN</td>\n",
       "    </tr>\n",
       "  </tbody>\n",
       "</table>\n",
       "</div>"
      ],
      "text/plain": [
       "0   energy_100g  fat_100g  carbohydrates_100g  sugars_100g  fiber_100g  \\\n",
       "5       0.38800    0.0143              0.7714          0.0       0.057   \n",
       "7       0.37250       NaN              0.8000          0.0       0.000   \n",
       "11      0.34825    0.0104              0.6250          0.0       0.125   \n",
       "\n",
       "0   proteins_100g  salt_100g  vitamin-a_100g  vitamin-c_100g  calcium_100g  \\\n",
       "5          0.0857        0.0             0.0        0.000000      0.000000   \n",
       "7          0.0889        0.0             0.0        0.000054      0.000444   \n",
       "11         0.2292        0.0             0.0        0.000000      0.000626   \n",
       "\n",
       "0   iron_100g  nutrition-score-fr_100g  \n",
       "5     0.00000                      NaN  \n",
       "7     0.00000                      NaN  \n",
       "11    0.00009                      NaN  "
      ]
     },
     "execution_count": 78,
     "metadata": {},
     "output_type": "execute_result"
    }
   ],
   "source": [
    "scaler = MinMaxScaler()\n",
    "df16 = pd.DataFrame(scaler.fit_transform(df15), columns = df15.columns, index=df15.index)\n",
    "df16.head(3)"
   ]
  },
  {
   "attachments": {},
   "cell_type": "markdown",
   "metadata": {},
   "source": [
    "# /!\\ Script à relancer pour KNN (faire passer la ligne en code)."
   ]
  },
  {
   "cell_type": "markdown",
   "metadata": {},
   "source": [
    "imputer = KNNImputer(n_neighbors=5)\n",
    "df17 = pd.DataFrame(imputer.fit_transform(df16),columns = df16.columns, index=df16.index)\n",
    "df17.head(3) #très long : 15min16s"
   ]
  },
  {
   "attachments": {},
   "cell_type": "markdown",
   "metadata": {},
   "source": [
    "Sauver en xlsx pour éviter de relancer le KNN."
   ]
  },
  {
   "cell_type": "markdown",
   "metadata": {},
   "source": [
    "df17.to_excel('df17.xlsx')"
   ]
  },
  {
   "cell_type": "code",
   "execution_count": 79,
   "metadata": {},
   "outputs": [],
   "source": [
    "df18 = pd.read_excel('df17.xlsx', header=0, index_col=0) #30 s d'execution"
   ]
  },
  {
   "cell_type": "code",
   "execution_count": 80,
   "metadata": {},
   "outputs": [
    {
     "data": {
      "text/html": [
       "<div>\n",
       "<style scoped>\n",
       "    .dataframe tbody tr th:only-of-type {\n",
       "        vertical-align: middle;\n",
       "    }\n",
       "\n",
       "    .dataframe tbody tr th {\n",
       "        vertical-align: top;\n",
       "    }\n",
       "\n",
       "    .dataframe thead th {\n",
       "        text-align: right;\n",
       "    }\n",
       "</style>\n",
       "<table border=\"1\" class=\"dataframe\">\n",
       "  <thead>\n",
       "    <tr style=\"text-align: right;\">\n",
       "      <th></th>\n",
       "      <th>energy_100g</th>\n",
       "      <th>fat_100g</th>\n",
       "      <th>carbohydrates_100g</th>\n",
       "      <th>sugars_100g</th>\n",
       "      <th>fiber_100g</th>\n",
       "      <th>proteins_100g</th>\n",
       "      <th>salt_100g</th>\n",
       "      <th>vitamin-a_100g</th>\n",
       "      <th>vitamin-c_100g</th>\n",
       "      <th>calcium_100g</th>\n",
       "      <th>iron_100g</th>\n",
       "      <th>nutrition-score-fr_100g</th>\n",
       "    </tr>\n",
       "  </thead>\n",
       "  <tbody>\n",
       "    <tr>\n",
       "      <th>5</th>\n",
       "      <td>0.38800</td>\n",
       "      <td>0.01430</td>\n",
       "      <td>0.7714</td>\n",
       "      <td>0.0</td>\n",
       "      <td>0.057</td>\n",
       "      <td>0.0857</td>\n",
       "      <td>0.0</td>\n",
       "      <td>0.0</td>\n",
       "      <td>0.000000</td>\n",
       "      <td>0.000000</td>\n",
       "      <td>0.00000</td>\n",
       "      <td>0.170909</td>\n",
       "    </tr>\n",
       "    <tr>\n",
       "      <th>7</th>\n",
       "      <td>0.37250</td>\n",
       "      <td>0.00404</td>\n",
       "      <td>0.8000</td>\n",
       "      <td>0.0</td>\n",
       "      <td>0.000</td>\n",
       "      <td>0.0889</td>\n",
       "      <td>0.0</td>\n",
       "      <td>0.0</td>\n",
       "      <td>0.000054</td>\n",
       "      <td>0.000444</td>\n",
       "      <td>0.00000</td>\n",
       "      <td>0.254545</td>\n",
       "    </tr>\n",
       "    <tr>\n",
       "      <th>11</th>\n",
       "      <td>0.34825</td>\n",
       "      <td>0.01040</td>\n",
       "      <td>0.6250</td>\n",
       "      <td>0.0</td>\n",
       "      <td>0.125</td>\n",
       "      <td>0.2292</td>\n",
       "      <td>0.0</td>\n",
       "      <td>0.0</td>\n",
       "      <td>0.000000</td>\n",
       "      <td>0.000626</td>\n",
       "      <td>0.00009</td>\n",
       "      <td>0.163636</td>\n",
       "    </tr>\n",
       "  </tbody>\n",
       "</table>\n",
       "</div>"
      ],
      "text/plain": [
       "    energy_100g  fat_100g  carbohydrates_100g  sugars_100g  fiber_100g  \\\n",
       "5       0.38800   0.01430              0.7714          0.0       0.057   \n",
       "7       0.37250   0.00404              0.8000          0.0       0.000   \n",
       "11      0.34825   0.01040              0.6250          0.0       0.125   \n",
       "\n",
       "    proteins_100g  salt_100g  vitamin-a_100g  vitamin-c_100g  calcium_100g  \\\n",
       "5          0.0857        0.0             0.0        0.000000      0.000000   \n",
       "7          0.0889        0.0             0.0        0.000054      0.000444   \n",
       "11         0.2292        0.0             0.0        0.000000      0.000626   \n",
       "\n",
       "    iron_100g  nutrition-score-fr_100g  \n",
       "5     0.00000                 0.170909  \n",
       "7     0.00000                 0.254545  \n",
       "11    0.00009                 0.163636  "
      ]
     },
     "execution_count": 80,
     "metadata": {},
     "output_type": "execute_result"
    }
   ],
   "source": [
    "df18.head(3)"
   ]
  },
  {
   "attachments": {},
   "cell_type": "markdown",
   "metadata": {},
   "source": [
    "Ok, KNN a bien marché!"
   ]
  },
  {
   "cell_type": "code",
   "execution_count": 81,
   "metadata": {},
   "outputs": [
    {
     "data": {
      "text/plain": [
       "energy_100g                0\n",
       "fat_100g                   0\n",
       "carbohydrates_100g         0\n",
       "sugars_100g                0\n",
       "fiber_100g                 0\n",
       "proteins_100g              0\n",
       "salt_100g                  0\n",
       "vitamin-a_100g             0\n",
       "vitamin-c_100g             0\n",
       "calcium_100g               0\n",
       "iron_100g                  0\n",
       "nutrition-score-fr_100g    0\n",
       "dtype: int64"
      ]
     },
     "execution_count": 81,
     "metadata": {},
     "output_type": "execute_result"
    }
   ],
   "source": [
    "df18.isna().sum()"
   ]
  },
  {
   "cell_type": "code",
   "execution_count": 82,
   "metadata": {},
   "outputs": [
    {
     "data": {
      "text/html": [
       "<div>\n",
       "<style scoped>\n",
       "    .dataframe tbody tr th:only-of-type {\n",
       "        vertical-align: middle;\n",
       "    }\n",
       "\n",
       "    .dataframe tbody tr th {\n",
       "        vertical-align: top;\n",
       "    }\n",
       "\n",
       "    .dataframe thead th {\n",
       "        text-align: right;\n",
       "    }\n",
       "</style>\n",
       "<table border=\"1\" class=\"dataframe\">\n",
       "  <thead>\n",
       "    <tr style=\"text-align: right;\">\n",
       "      <th></th>\n",
       "      <th>count</th>\n",
       "      <th>mean</th>\n",
       "      <th>std</th>\n",
       "      <th>min</th>\n",
       "      <th>25%</th>\n",
       "      <th>50%</th>\n",
       "      <th>75%</th>\n",
       "      <th>max</th>\n",
       "    </tr>\n",
       "  </thead>\n",
       "  <tbody>\n",
       "    <tr>\n",
       "      <th>energy_100g</th>\n",
       "      <td>232068.0</td>\n",
       "      <td>0.258407</td>\n",
       "      <td>0.189812</td>\n",
       "      <td>0.0</td>\n",
       "      <td>0.083750</td>\n",
       "      <td>0.248000</td>\n",
       "      <td>0.392250</td>\n",
       "      <td>1.0</td>\n",
       "    </tr>\n",
       "    <tr>\n",
       "      <th>fat_100g</th>\n",
       "      <td>232068.0</td>\n",
       "      <td>0.110805</td>\n",
       "      <td>0.161316</td>\n",
       "      <td>0.0</td>\n",
       "      <td>0.000000</td>\n",
       "      <td>0.038500</td>\n",
       "      <td>0.170000</td>\n",
       "      <td>1.0</td>\n",
       "    </tr>\n",
       "    <tr>\n",
       "      <th>carbohydrates_100g</th>\n",
       "      <td>232068.0</td>\n",
       "      <td>0.299313</td>\n",
       "      <td>0.286161</td>\n",
       "      <td>0.0</td>\n",
       "      <td>0.052600</td>\n",
       "      <td>0.171900</td>\n",
       "      <td>0.550000</td>\n",
       "      <td>1.0</td>\n",
       "    </tr>\n",
       "    <tr>\n",
       "      <th>sugars_100g</th>\n",
       "      <td>232068.0</td>\n",
       "      <td>0.147215</td>\n",
       "      <td>0.207489</td>\n",
       "      <td>0.0</td>\n",
       "      <td>0.007800</td>\n",
       "      <td>0.047000</td>\n",
       "      <td>0.209300</td>\n",
       "      <td>1.0</td>\n",
       "    </tr>\n",
       "    <tr>\n",
       "      <th>fiber_100g</th>\n",
       "      <td>232068.0</td>\n",
       "      <td>0.016333</td>\n",
       "      <td>0.031192</td>\n",
       "      <td>0.0</td>\n",
       "      <td>0.000000</td>\n",
       "      <td>0.000000</td>\n",
       "      <td>0.024000</td>\n",
       "      <td>1.0</td>\n",
       "    </tr>\n",
       "    <tr>\n",
       "      <th>proteins_100g</th>\n",
       "      <td>232068.0</td>\n",
       "      <td>0.065583</td>\n",
       "      <td>0.078516</td>\n",
       "      <td>0.0</td>\n",
       "      <td>0.004200</td>\n",
       "      <td>0.040000</td>\n",
       "      <td>0.093300</td>\n",
       "      <td>1.0</td>\n",
       "    </tr>\n",
       "    <tr>\n",
       "      <th>salt_100g</th>\n",
       "      <td>232068.0</td>\n",
       "      <td>0.016089</td>\n",
       "      <td>0.065737</td>\n",
       "      <td>0.0</td>\n",
       "      <td>0.000500</td>\n",
       "      <td>0.005436</td>\n",
       "      <td>0.013614</td>\n",
       "      <td>1.0</td>\n",
       "    </tr>\n",
       "    <tr>\n",
       "      <th>vitamin-a_100g</th>\n",
       "      <td>232068.0</td>\n",
       "      <td>0.000008</td>\n",
       "      <td>0.002113</td>\n",
       "      <td>0.0</td>\n",
       "      <td>0.000000</td>\n",
       "      <td>0.000000</td>\n",
       "      <td>0.000000</td>\n",
       "      <td>1.0</td>\n",
       "    </tr>\n",
       "    <tr>\n",
       "      <th>vitamin-c_100g</th>\n",
       "      <td>232068.0</td>\n",
       "      <td>0.000135</td>\n",
       "      <td>0.004271</td>\n",
       "      <td>0.0</td>\n",
       "      <td>0.000000</td>\n",
       "      <td>0.000000</td>\n",
       "      <td>0.000000</td>\n",
       "      <td>1.0</td>\n",
       "    </tr>\n",
       "    <tr>\n",
       "      <th>calcium_100g</th>\n",
       "      <td>232068.0</td>\n",
       "      <td>0.000533</td>\n",
       "      <td>0.004573</td>\n",
       "      <td>0.0</td>\n",
       "      <td>0.000000</td>\n",
       "      <td>0.000000</td>\n",
       "      <td>0.000354</td>\n",
       "      <td>1.0</td>\n",
       "    </tr>\n",
       "    <tr>\n",
       "      <th>iron_100g</th>\n",
       "      <td>232068.0</td>\n",
       "      <td>0.000030</td>\n",
       "      <td>0.002984</td>\n",
       "      <td>0.0</td>\n",
       "      <td>0.000000</td>\n",
       "      <td>0.000000</td>\n",
       "      <td>0.000016</td>\n",
       "      <td>1.0</td>\n",
       "    </tr>\n",
       "    <tr>\n",
       "      <th>nutrition-score-fr_100g</th>\n",
       "      <td>232068.0</td>\n",
       "      <td>0.429656</td>\n",
       "      <td>0.159998</td>\n",
       "      <td>0.0</td>\n",
       "      <td>0.290909</td>\n",
       "      <td>0.436364</td>\n",
       "      <td>0.545455</td>\n",
       "      <td>1.0</td>\n",
       "    </tr>\n",
       "  </tbody>\n",
       "</table>\n",
       "</div>"
      ],
      "text/plain": [
       "                            count      mean       std  min       25%  \\\n",
       "energy_100g              232068.0  0.258407  0.189812  0.0  0.083750   \n",
       "fat_100g                 232068.0  0.110805  0.161316  0.0  0.000000   \n",
       "carbohydrates_100g       232068.0  0.299313  0.286161  0.0  0.052600   \n",
       "sugars_100g              232068.0  0.147215  0.207489  0.0  0.007800   \n",
       "fiber_100g               232068.0  0.016333  0.031192  0.0  0.000000   \n",
       "proteins_100g            232068.0  0.065583  0.078516  0.0  0.004200   \n",
       "salt_100g                232068.0  0.016089  0.065737  0.0  0.000500   \n",
       "vitamin-a_100g           232068.0  0.000008  0.002113  0.0  0.000000   \n",
       "vitamin-c_100g           232068.0  0.000135  0.004271  0.0  0.000000   \n",
       "calcium_100g             232068.0  0.000533  0.004573  0.0  0.000000   \n",
       "iron_100g                232068.0  0.000030  0.002984  0.0  0.000000   \n",
       "nutrition-score-fr_100g  232068.0  0.429656  0.159998  0.0  0.290909   \n",
       "\n",
       "                              50%       75%  max  \n",
       "energy_100g              0.248000  0.392250  1.0  \n",
       "fat_100g                 0.038500  0.170000  1.0  \n",
       "carbohydrates_100g       0.171900  0.550000  1.0  \n",
       "sugars_100g              0.047000  0.209300  1.0  \n",
       "fiber_100g               0.000000  0.024000  1.0  \n",
       "proteins_100g            0.040000  0.093300  1.0  \n",
       "salt_100g                0.005436  0.013614  1.0  \n",
       "vitamin-a_100g           0.000000  0.000000  1.0  \n",
       "vitamin-c_100g           0.000000  0.000000  1.0  \n",
       "calcium_100g             0.000000  0.000354  1.0  \n",
       "iron_100g                0.000000  0.000016  1.0  \n",
       "nutrition-score-fr_100g  0.436364  0.545455  1.0  "
      ]
     },
     "execution_count": 82,
     "metadata": {},
     "output_type": "execute_result"
    }
   ],
   "source": [
    "describ(df18)"
   ]
  },
  {
   "attachments": {},
   "cell_type": "markdown",
   "metadata": {},
   "source": [
    "On reforme le df d'origine avec toutes les col remplies."
   ]
  },
  {
   "cell_type": "code",
   "execution_count": 83,
   "metadata": {},
   "outputs": [],
   "source": [
    "df19 = pd.DataFrame(scaler.inverse_transform(df18),columns = df18.columns, index=df18.index)\n",
    "df20 = pd.merge(df14.iloc[:,0:21], df19, left_index=True, right_index=True)"
   ]
  },
  {
   "cell_type": "code",
   "execution_count": 84,
   "metadata": {},
   "outputs": [
    {
     "data": {
      "text/html": [
       "<div>\n",
       "<style scoped>\n",
       "    .dataframe tbody tr th:only-of-type {\n",
       "        vertical-align: middle;\n",
       "    }\n",
       "\n",
       "    .dataframe tbody tr th {\n",
       "        vertical-align: top;\n",
       "    }\n",
       "\n",
       "    .dataframe thead th {\n",
       "        text-align: right;\n",
       "    }\n",
       "</style>\n",
       "<table border=\"1\" class=\"dataframe\">\n",
       "  <thead>\n",
       "    <tr style=\"text-align: right;\">\n",
       "      <th></th>\n",
       "      <th>code</th>\n",
       "      <th>product_name</th>\n",
       "      <th>brands_tags</th>\n",
       "      <th>categories_fr</th>\n",
       "      <th>origins_tags</th>\n",
       "      <th>manufacturing_places_tags</th>\n",
       "      <th>labels_fr</th>\n",
       "      <th>emb_codes_tags</th>\n",
       "      <th>cities_tags</th>\n",
       "      <th>countries_fr</th>\n",
       "      <th>ingredients_text</th>\n",
       "      <th>allergens</th>\n",
       "      <th>traces</th>\n",
       "      <th>serving_size</th>\n",
       "      <th>additives_n</th>\n",
       "      <th>additives</th>\n",
       "      <th>additives_fr</th>\n",
       "      <th>ingredients_from_palm_oil_tags</th>\n",
       "      <th>nutrition_grade_fr</th>\n",
       "      <th>pnns_groups_1</th>\n",
       "      <th>pnns_groups_2</th>\n",
       "      <th>energy_100g</th>\n",
       "      <th>fat_100g</th>\n",
       "      <th>carbohydrates_100g</th>\n",
       "      <th>sugars_100g</th>\n",
       "      <th>fiber_100g</th>\n",
       "      <th>proteins_100g</th>\n",
       "      <th>salt_100g</th>\n",
       "      <th>vitamin-a_100g</th>\n",
       "      <th>vitamin-c_100g</th>\n",
       "      <th>calcium_100g</th>\n",
       "      <th>iron_100g</th>\n",
       "      <th>nutrition-score-fr_100g</th>\n",
       "    </tr>\n",
       "  </thead>\n",
       "  <tbody>\n",
       "    <tr>\n",
       "      <th>5</th>\n",
       "      <td>0000000016094</td>\n",
       "      <td>Organic Polenta</td>\n",
       "      <td>bob-s-red-mill</td>\n",
       "      <td>NaN</td>\n",
       "      <td>NaN</td>\n",
       "      <td>NaN</td>\n",
       "      <td>NaN</td>\n",
       "      <td>NaN</td>\n",
       "      <td>NaN</td>\n",
       "      <td>États-Unis</td>\n",
       "      <td>Organic polenta</td>\n",
       "      <td>NaN</td>\n",
       "      <td>NaN</td>\n",
       "      <td>35 g (0.25 cup)</td>\n",
       "      <td>0.0</td>\n",
       "      <td>[ organic-polenta -&gt; en:organic-polenta  ]  [...</td>\n",
       "      <td>NaN</td>\n",
       "      <td>NaN</td>\n",
       "      <td>NaN</td>\n",
       "      <td>NaN</td>\n",
       "      <td>NaN</td>\n",
       "      <td>1552.0</td>\n",
       "      <td>1.430</td>\n",
       "      <td>77.139999</td>\n",
       "      <td>0.0</td>\n",
       "      <td>5.7</td>\n",
       "      <td>8.57</td>\n",
       "      <td>0.0</td>\n",
       "      <td>0.0</td>\n",
       "      <td>0.0000</td>\n",
       "      <td>0.000</td>\n",
       "      <td>0.0000</td>\n",
       "      <td>-5.6</td>\n",
       "    </tr>\n",
       "    <tr>\n",
       "      <th>7</th>\n",
       "      <td>0000000016117</td>\n",
       "      <td>Organic Long Grain White Rice</td>\n",
       "      <td>lundberg</td>\n",
       "      <td>NaN</td>\n",
       "      <td>NaN</td>\n",
       "      <td>NaN</td>\n",
       "      <td>NaN</td>\n",
       "      <td>NaN</td>\n",
       "      <td>NaN</td>\n",
       "      <td>États-Unis</td>\n",
       "      <td>Organic long grain white rice</td>\n",
       "      <td>NaN</td>\n",
       "      <td>NaN</td>\n",
       "      <td>45 g (0.25 cup)</td>\n",
       "      <td>0.0</td>\n",
       "      <td>[ organic-long-grain-white-rice -&gt; en:organic...</td>\n",
       "      <td>NaN</td>\n",
       "      <td>NaN</td>\n",
       "      <td>NaN</td>\n",
       "      <td>NaN</td>\n",
       "      <td>NaN</td>\n",
       "      <td>1490.0</td>\n",
       "      <td>0.404</td>\n",
       "      <td>80.000000</td>\n",
       "      <td>0.0</td>\n",
       "      <td>0.0</td>\n",
       "      <td>8.89</td>\n",
       "      <td>0.0</td>\n",
       "      <td>0.0</td>\n",
       "      <td>0.0027</td>\n",
       "      <td>0.044</td>\n",
       "      <td>0.0000</td>\n",
       "      <td>-1.0</td>\n",
       "    </tr>\n",
       "    <tr>\n",
       "      <th>11</th>\n",
       "      <td>0000000016612</td>\n",
       "      <td>Organic Adzuki Beans</td>\n",
       "      <td>unfi</td>\n",
       "      <td>NaN</td>\n",
       "      <td>NaN</td>\n",
       "      <td>NaN</td>\n",
       "      <td>NaN</td>\n",
       "      <td>NaN</td>\n",
       "      <td>NaN</td>\n",
       "      <td>États-Unis</td>\n",
       "      <td>Organic adzuki beans</td>\n",
       "      <td>NaN</td>\n",
       "      <td>NaN</td>\n",
       "      <td>48 g (0.25 cup)</td>\n",
       "      <td>0.0</td>\n",
       "      <td>[ organic-adzuki-beans -&gt; en:organic-adzuki-b...</td>\n",
       "      <td>NaN</td>\n",
       "      <td>NaN</td>\n",
       "      <td>NaN</td>\n",
       "      <td>NaN</td>\n",
       "      <td>NaN</td>\n",
       "      <td>1393.0</td>\n",
       "      <td>1.040</td>\n",
       "      <td>62.500000</td>\n",
       "      <td>0.0</td>\n",
       "      <td>12.5</td>\n",
       "      <td>22.92</td>\n",
       "      <td>0.0</td>\n",
       "      <td>0.0</td>\n",
       "      <td>0.0000</td>\n",
       "      <td>0.062</td>\n",
       "      <td>0.0045</td>\n",
       "      <td>-6.0</td>\n",
       "    </tr>\n",
       "  </tbody>\n",
       "</table>\n",
       "</div>"
      ],
      "text/plain": [
       "             code                   product_name     brands_tags  \\\n",
       "5   0000000016094                Organic Polenta  bob-s-red-mill   \n",
       "7   0000000016117  Organic Long Grain White Rice        lundberg   \n",
       "11  0000000016612           Organic Adzuki Beans            unfi   \n",
       "\n",
       "   categories_fr origins_tags manufacturing_places_tags labels_fr  \\\n",
       "5            NaN          NaN                       NaN       NaN   \n",
       "7            NaN          NaN                       NaN       NaN   \n",
       "11           NaN          NaN                       NaN       NaN   \n",
       "\n",
       "   emb_codes_tags cities_tags countries_fr               ingredients_text  \\\n",
       "5             NaN         NaN   États-Unis                Organic polenta   \n",
       "7             NaN         NaN   États-Unis  Organic long grain white rice   \n",
       "11            NaN         NaN   États-Unis           Organic adzuki beans   \n",
       "\n",
       "   allergens traces     serving_size  additives_n  \\\n",
       "5        NaN    NaN  35 g (0.25 cup)          0.0   \n",
       "7        NaN    NaN  45 g (0.25 cup)          0.0   \n",
       "11       NaN    NaN  48 g (0.25 cup)          0.0   \n",
       "\n",
       "                                            additives additives_fr  \\\n",
       "5    [ organic-polenta -> en:organic-polenta  ]  [...          NaN   \n",
       "7    [ organic-long-grain-white-rice -> en:organic...          NaN   \n",
       "11   [ organic-adzuki-beans -> en:organic-adzuki-b...          NaN   \n",
       "\n",
       "   ingredients_from_palm_oil_tags nutrition_grade_fr pnns_groups_1  \\\n",
       "5                             NaN                NaN           NaN   \n",
       "7                             NaN                NaN           NaN   \n",
       "11                            NaN                NaN           NaN   \n",
       "\n",
       "   pnns_groups_2  energy_100g  fat_100g  carbohydrates_100g  sugars_100g  \\\n",
       "5            NaN       1552.0     1.430           77.139999          0.0   \n",
       "7            NaN       1490.0     0.404           80.000000          0.0   \n",
       "11           NaN       1393.0     1.040           62.500000          0.0   \n",
       "\n",
       "    fiber_100g  proteins_100g  salt_100g  vitamin-a_100g  vitamin-c_100g  \\\n",
       "5          5.7           8.57        0.0             0.0          0.0000   \n",
       "7          0.0           8.89        0.0             0.0          0.0027   \n",
       "11        12.5          22.92        0.0             0.0          0.0000   \n",
       "\n",
       "    calcium_100g  iron_100g  nutrition-score-fr_100g  \n",
       "5          0.000     0.0000                     -5.6  \n",
       "7          0.044     0.0000                     -1.0  \n",
       "11         0.062     0.0045                     -6.0  "
      ]
     },
     "execution_count": 84,
     "metadata": {},
     "output_type": "execute_result"
    }
   ],
   "source": [
    "df20.head(3)"
   ]
  },
  {
   "cell_type": "code",
   "execution_count": 85,
   "metadata": {},
   "outputs": [
    {
     "data": {
      "text/plain": [
       "<AxesSubplot:>"
      ]
     },
     "execution_count": 85,
     "metadata": {},
     "output_type": "execute_result"
    },
    {
     "data": {
      "image/png": "[encoded data removed]",
      "text/plain": [
       "<Figure size 1800x720 with 2 Axes>"
      ]
     },
     "metadata": {
      "needs_background": "light"
     },
     "output_type": "display_data"
    }
   ],
   "source": [
    "missing(df20, 'df20')"
   ]
  },
  {
   "attachments": {},
   "cell_type": "markdown",
   "metadata": {},
   "source": [
    "Vérifications sur site internet du KNN (energy_100g seulement)."
   ]
  },
  {
   "cell_type": "code",
   "execution_count": 86,
   "metadata": {},
   "outputs": [
    {
     "data": {
      "text/plain": [
       "172979    0895296002032\n",
       "160579    0853152100025\n",
       "299714    7640155340038\n",
       "285596    7441000708511\n",
       "66976     0061104149422\n",
       "316509    8809061676429\n",
       "43206     0041303001660\n",
       "111219      01121302231\n",
       "316936    8850987123641\n",
       "150291    0812828012017\n",
       "Name: code, dtype: object"
      ]
     },
     "execution_count": 86,
     "metadata": {},
     "output_type": "execute_result"
    }
   ],
   "source": [
    "df14[df14['energy_100g'].isna()==True]['code'].sample(n=10, random_state=42)"
   ]
  },
  {
   "cell_type": "code",
   "execution_count": 87,
   "metadata": {},
   "outputs": [
    {
     "data": {
      "text/plain": [
       "1266.8"
      ]
     },
     "execution_count": 87,
     "metadata": {},
     "output_type": "execute_result"
    }
   ],
   "source": [
    "df20.at[150291, 'energy_100g']"
   ]
  },
  {
   "attachments": {},
   "cell_type": "markdown",
   "metadata": {},
   "source": [
    "#vérification sur le site pour ENERGY_100g : (par ID) <br>\n",
    "#172979 => sur-évalué (3615 au lieu de 1979 sur site). <br>\n",
    "#160579 => pas mal un peu en-dessous (1207 au lieu de 1774 sur site). <br>\n",
    "#299714 => sur-évalué (2179 au lieu de 1653 sur site). <br>\n",
    "#285596 => sur-évalué (384 au lieu de 63 sur site). <br>\n",
    "#66976  => bien (1328 au lieu de 1494 sur site). <br>\n",
    "#316509 => abs (798 au lieu de rien sur site). <br>\n",
    "#43206  => très sous-évalué (185 au lieu de 1569 sur site). <br>\n",
    "#111219 => abs (228 au lieu de rien sur site). <br>\n",
    "#316936 => sur-évalué (771 au lieu de 251 sur site). <br>\n",
    "#150291 => abs (1267 au lieu de rien sur site). <br>"
   ]
  },
  {
   "attachments": {},
   "cell_type": "markdown",
   "metadata": {},
   "source": [
    "Nb : imputation pas top pour la col energy_100g."
   ]
  },
  {
   "attachments": {},
   "cell_type": "markdown",
   "metadata": {},
   "source": [
    "# Imputation de la colonne pnns_groups_1"
   ]
  },
  {
   "cell_type": "code",
   "execution_count": 88,
   "metadata": {},
   "outputs": [],
   "source": [
    "df20['pnns_groups_1'] = df20['pnns_groups_1'].fillna('unknown')\n",
    "df20['pnns_groups_1'] = df20['pnns_groups_1'].str.lower()\n",
    "df20['pnns_groups_1'] = df20['pnns_groups_1'].str.replace(' ','-')"
   ]
  },
  {
   "cell_type": "code",
   "execution_count": 89,
   "metadata": {},
   "outputs": [
    {
     "data": {
      "text/plain": [
       "array(['unknown', 'fruits-and-vegetables', 'sugary-snacks',\n",
       "       'composite-foods', 'fish-meat-eggs', 'beverages',\n",
       "       'cereals-and-potatoes', 'milk-and-dairy-products',\n",
       "       'fat-and-sauces', 'salty-snacks'], dtype=object)"
      ]
     },
     "execution_count": 89,
     "metadata": {},
     "output_type": "execute_result"
    }
   ],
   "source": [
    "df20['pnns_groups_1'].unique()"
   ]
  },
  {
   "attachments": {},
   "cell_type": "markdown",
   "metadata": {},
   "source": [
    "# Stocker/enregistrer le df20 pour le rappeler dans l'autre notebook."
   ]
  },
  {
   "cell_type": "code",
   "execution_count": 90,
   "metadata": {},
   "outputs": [
    {
     "data": {
      "text/plain": [
       "(232068, 33)"
      ]
     },
     "execution_count": 90,
     "metadata": {},
     "output_type": "execute_result"
    }
   ],
   "source": [
    "df20.shape"
   ]
  },
  {
   "cell_type": "code",
   "execution_count": 91,
   "metadata": {},
   "outputs": [
    {
     "name": "stdout",
     "output_type": "stream",
     "text": [
      "Stored 'df20' (DataFrame)\n"
     ]
    }
   ],
   "source": [
    "%store df20"
   ]
  },
  {
   "attachments": {},
   "cell_type": "markdown",
   "metadata": {},
   "source": [
    "Dernière vérif"
   ]
  },
  {
   "cell_type": "code",
   "execution_count": 92,
   "metadata": {},
   "outputs": [
    {
     "data": {
      "text/html": [
       "<div>\n",
       "<style scoped>\n",
       "    .dataframe tbody tr th:only-of-type {\n",
       "        vertical-align: middle;\n",
       "    }\n",
       "\n",
       "    .dataframe tbody tr th {\n",
       "        vertical-align: top;\n",
       "    }\n",
       "\n",
       "    .dataframe thead th {\n",
       "        text-align: right;\n",
       "    }\n",
       "</style>\n",
       "<table border=\"1\" class=\"dataframe\">\n",
       "  <thead>\n",
       "    <tr style=\"text-align: right;\">\n",
       "      <th></th>\n",
       "      <th>count</th>\n",
       "      <th>mean</th>\n",
       "      <th>std</th>\n",
       "      <th>min</th>\n",
       "      <th>25%</th>\n",
       "      <th>50%</th>\n",
       "      <th>75%</th>\n",
       "      <th>max</th>\n",
       "    </tr>\n",
       "  </thead>\n",
       "  <tbody>\n",
       "    <tr>\n",
       "      <th>additives_n</th>\n",
       "      <td>232068.0</td>\n",
       "      <td>1.857469</td>\n",
       "      <td>2.508418</td>\n",
       "      <td>0.0</td>\n",
       "      <td>0.00</td>\n",
       "      <td>1.000000</td>\n",
       "      <td>3.00000</td>\n",
       "      <td>31.000000</td>\n",
       "    </tr>\n",
       "    <tr>\n",
       "      <th>energy_100g</th>\n",
       "      <td>232068.0</td>\n",
       "      <td>1033.629241</td>\n",
       "      <td>759.247026</td>\n",
       "      <td>0.0</td>\n",
       "      <td>335.00</td>\n",
       "      <td>992.000000</td>\n",
       "      <td>1569.00000</td>\n",
       "      <td>4000.000000</td>\n",
       "    </tr>\n",
       "    <tr>\n",
       "      <th>fat_100g</th>\n",
       "      <td>232068.0</td>\n",
       "      <td>11.080482</td>\n",
       "      <td>16.131552</td>\n",
       "      <td>0.0</td>\n",
       "      <td>0.00</td>\n",
       "      <td>3.850000</td>\n",
       "      <td>17.00000</td>\n",
       "      <td>100.000000</td>\n",
       "    </tr>\n",
       "    <tr>\n",
       "      <th>carbohydrates_100g</th>\n",
       "      <td>232068.0</td>\n",
       "      <td>29.931283</td>\n",
       "      <td>28.616087</td>\n",
       "      <td>0.0</td>\n",
       "      <td>5.26</td>\n",
       "      <td>17.190001</td>\n",
       "      <td>55.00000</td>\n",
       "      <td>100.000000</td>\n",
       "    </tr>\n",
       "    <tr>\n",
       "      <th>sugars_100g</th>\n",
       "      <td>232068.0</td>\n",
       "      <td>14.721461</td>\n",
       "      <td>20.748930</td>\n",
       "      <td>0.0</td>\n",
       "      <td>0.78</td>\n",
       "      <td>4.700000</td>\n",
       "      <td>20.93000</td>\n",
       "      <td>100.000000</td>\n",
       "    </tr>\n",
       "    <tr>\n",
       "      <th>fiber_100g</th>\n",
       "      <td>232068.0</td>\n",
       "      <td>1.633268</td>\n",
       "      <td>3.119173</td>\n",
       "      <td>0.0</td>\n",
       "      <td>0.00</td>\n",
       "      <td>0.000000</td>\n",
       "      <td>2.40000</td>\n",
       "      <td>100.000000</td>\n",
       "    </tr>\n",
       "    <tr>\n",
       "      <th>proteins_100g</th>\n",
       "      <td>232068.0</td>\n",
       "      <td>6.558260</td>\n",
       "      <td>7.851636</td>\n",
       "      <td>0.0</td>\n",
       "      <td>0.42</td>\n",
       "      <td>4.000000</td>\n",
       "      <td>9.33000</td>\n",
       "      <td>100.000000</td>\n",
       "    </tr>\n",
       "    <tr>\n",
       "      <th>salt_100g</th>\n",
       "      <td>232068.0</td>\n",
       "      <td>1.608926</td>\n",
       "      <td>6.573712</td>\n",
       "      <td>0.0</td>\n",
       "      <td>0.05</td>\n",
       "      <td>0.543560</td>\n",
       "      <td>1.36144</td>\n",
       "      <td>100.000000</td>\n",
       "    </tr>\n",
       "    <tr>\n",
       "      <th>vitamin-a_100g</th>\n",
       "      <td>232068.0</td>\n",
       "      <td>0.000221</td>\n",
       "      <td>0.056416</td>\n",
       "      <td>0.0</td>\n",
       "      <td>0.00</td>\n",
       "      <td>0.000000</td>\n",
       "      <td>0.00000</td>\n",
       "      <td>26.700001</td>\n",
       "    </tr>\n",
       "    <tr>\n",
       "      <th>vitamin-c_100g</th>\n",
       "      <td>232068.0</td>\n",
       "      <td>0.006728</td>\n",
       "      <td>0.213555</td>\n",
       "      <td>0.0</td>\n",
       "      <td>0.00</td>\n",
       "      <td>0.000000</td>\n",
       "      <td>0.00000</td>\n",
       "      <td>50.000000</td>\n",
       "    </tr>\n",
       "    <tr>\n",
       "      <th>calcium_100g</th>\n",
       "      <td>232068.0</td>\n",
       "      <td>0.052730</td>\n",
       "      <td>0.452793</td>\n",
       "      <td>0.0</td>\n",
       "      <td>0.00</td>\n",
       "      <td>0.000000</td>\n",
       "      <td>0.03500</td>\n",
       "      <td>99.005997</td>\n",
       "    </tr>\n",
       "    <tr>\n",
       "      <th>iron_100g</th>\n",
       "      <td>232068.0</td>\n",
       "      <td>0.001506</td>\n",
       "      <td>0.149200</td>\n",
       "      <td>0.0</td>\n",
       "      <td>0.00</td>\n",
       "      <td>0.000000</td>\n",
       "      <td>0.00080</td>\n",
       "      <td>50.000000</td>\n",
       "    </tr>\n",
       "    <tr>\n",
       "      <th>nutrition-score-fr_100g</th>\n",
       "      <td>232068.0</td>\n",
       "      <td>8.631083</td>\n",
       "      <td>8.799887</td>\n",
       "      <td>-15.0</td>\n",
       "      <td>1.00</td>\n",
       "      <td>9.000000</td>\n",
       "      <td>15.00000</td>\n",
       "      <td>40.000000</td>\n",
       "    </tr>\n",
       "  </tbody>\n",
       "</table>\n",
       "</div>"
      ],
      "text/plain": [
       "                            count         mean         std   min     25%  \\\n",
       "additives_n              232068.0     1.857469    2.508418   0.0    0.00   \n",
       "energy_100g              232068.0  1033.629241  759.247026   0.0  335.00   \n",
       "fat_100g                 232068.0    11.080482   16.131552   0.0    0.00   \n",
       "carbohydrates_100g       232068.0    29.931283   28.616087   0.0    5.26   \n",
       "sugars_100g              232068.0    14.721461   20.748930   0.0    0.78   \n",
       "fiber_100g               232068.0     1.633268    3.119173   0.0    0.00   \n",
       "proteins_100g            232068.0     6.558260    7.851636   0.0    0.42   \n",
       "salt_100g                232068.0     1.608926    6.573712   0.0    0.05   \n",
       "vitamin-a_100g           232068.0     0.000221    0.056416   0.0    0.00   \n",
       "vitamin-c_100g           232068.0     0.006728    0.213555   0.0    0.00   \n",
       "calcium_100g             232068.0     0.052730    0.452793   0.0    0.00   \n",
       "iron_100g                232068.0     0.001506    0.149200   0.0    0.00   \n",
       "nutrition-score-fr_100g  232068.0     8.631083    8.799887 -15.0    1.00   \n",
       "\n",
       "                                50%         75%          max  \n",
       "additives_n                1.000000     3.00000    31.000000  \n",
       "energy_100g              992.000000  1569.00000  4000.000000  \n",
       "fat_100g                   3.850000    17.00000   100.000000  \n",
       "carbohydrates_100g        17.190001    55.00000   100.000000  \n",
       "sugars_100g                4.700000    20.93000   100.000000  \n",
       "fiber_100g                 0.000000     2.40000   100.000000  \n",
       "proteins_100g              4.000000     9.33000   100.000000  \n",
       "salt_100g                  0.543560     1.36144   100.000000  \n",
       "vitamin-a_100g             0.000000     0.00000    26.700001  \n",
       "vitamin-c_100g             0.000000     0.00000    50.000000  \n",
       "calcium_100g               0.000000     0.03500    99.005997  \n",
       "iron_100g                  0.000000     0.00080    50.000000  \n",
       "nutrition-score-fr_100g    9.000000    15.00000    40.000000  "
      ]
     },
     "execution_count": 92,
     "metadata": {},
     "output_type": "execute_result"
    }
   ],
   "source": [
    "describ(df20)"
   ]
  }
 ],
 "metadata": {
  "kernelspec": {
   "display_name": "Python 3.9.7 ('base')",
   "language": "python",
   "name": "python3"
  },
  "language_info": {
   "codemirror_mode": {
    "name": "ipython",
    "version": 3
   },
   "file_extension": ".py",
   "mimetype": "text/x-python",
   "name": "python",
   "nbconvert_exporter": "python",
   "pygments_lexer": "ipython3",
   "version": "3.9.7"
  },
  "orig_nbformat": 4,
  "vscode": {
   "interpreter": {
    "hash": "1f04826dcc96a008917c6ca87a3c8a3a31b12c4446b40a25ad8fed7744102fd3"
   }
  }
 },
 "nbformat": 4,
 "nbformat_minor": 2
}
